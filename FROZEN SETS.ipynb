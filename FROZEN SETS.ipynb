{
 "cells": [
  {
   "cell_type": "code",
   "execution_count": 1,
   "id": "fed5eaff",
   "metadata": {},
   "outputs": [
    {
     "name": "stdout",
     "output_type": "stream",
     "text": [
      "{'orange', 'banana', 'watermelon', 'mango', 'guava', 'apple'}\n"
     ]
    }
   ],
   "source": [
    "basket = { \"apple\" , \"mango\" , \"banana\" , \"orange\" , \"watermelon\" , \"guava\" , \"mango\" , \"apple\" , \"orange\" }\n",
    "print(basket)"
   ]
  },
  {
   "cell_type": "code",
   "execution_count": 2,
   "id": "f18c2d8c",
   "metadata": {},
   "outputs": [
    {
     "name": "stdout",
     "output_type": "stream",
     "text": [
      "<class 'set'>\n"
     ]
    }
   ],
   "source": [
    "print ( type(basket) )"
   ]
  },
  {
   "cell_type": "code",
   "execution_count": 3,
   "id": "7ac70a0a",
   "metadata": {},
   "outputs": [
    {
     "name": "stdout",
     "output_type": "stream",
     "text": [
      "{1, 2, 3, 4}\n"
     ]
    }
   ],
   "source": [
    "numbers = set()\n",
    "numbers.add(1)\n",
    "numbers.add(2)\n",
    "numbers.add(3)\n",
    "numbers.add(4)\n",
    "print(numbers)"
   ]
  },
  {
   "cell_type": "code",
   "execution_count": 4,
   "id": "b39ba232",
   "metadata": {},
   "outputs": [
    {
     "name": "stdout",
     "output_type": "stream",
     "text": [
      "<class 'dict'>\n"
     ]
    }
   ],
   "source": [
    "a = {}\n",
    "print ( type(a) )"
   ]
  },
  {
   "cell_type": "code",
   "execution_count": 5,
   "id": "c991b568",
   "metadata": {},
   "outputs": [
    {
     "name": "stdout",
     "output_type": "stream",
     "text": [
      "<class 'set'>\n"
     ]
    }
   ],
   "source": [
    "b = {\"alphabet\"}\n",
    "print ( type(b) )"
   ]
  },
  {
   "cell_type": "code",
   "execution_count": 6,
   "id": "29c0dd95",
   "metadata": {},
   "outputs": [
    {
     "name": "stdout",
     "output_type": "stream",
     "text": [
      "{1, 2, 3, 4}\n"
     ]
    }
   ],
   "source": [
    "num = [1,2,3,4,1,2,3,4]\n",
    "unique_num = set(num)\n",
    "print(unique_num)"
   ]
  },
  {
   "cell_type": "code",
   "execution_count": 7,
   "id": "318d937b",
   "metadata": {},
   "outputs": [
    {
     "name": "stdout",
     "output_type": "stream",
     "text": [
      "{1, 2, 3, 4, 5, 6}\n"
     ]
    }
   ],
   "source": [
    "unique_num.add(5)\n",
    "unique_num.add(6)\n",
    "print(unique_num)"
   ]
  },
  {
   "cell_type": "code",
   "execution_count": 8,
   "id": "57bf6b43",
   "metadata": {},
   "outputs": [
    {
     "name": "stdout",
     "output_type": "stream",
     "text": [
      "frozenset({1, 2, 3, 4})\n"
     ]
    }
   ],
   "source": [
    "c = frozenset(num)\n",
    "print(c)"
   ]
  },
  {
   "cell_type": "code",
   "execution_count": 9,
   "id": "fe74c018",
   "metadata": {},
   "outputs": [
    {
     "name": "stdout",
     "output_type": "stream",
     "text": [
      "{'dan', 'sam', 'mac', 'tom', 'jim', 'ben'}\n"
     ]
    }
   ],
   "source": [
    "d = { \"tom\" , \"dan\" , \"jim\" , \"sam\" , \"ben\" , \"mac\" }\n",
    "print(d)"
   ]
  },
  {
   "cell_type": "code",
   "execution_count": 10,
   "id": "06700ee2",
   "metadata": {},
   "outputs": [
    {
     "name": "stdout",
     "output_type": "stream",
     "text": [
      "True\n"
     ]
    }
   ],
   "source": [
    "print ( \"tom\" in d )"
   ]
  },
  {
   "cell_type": "code",
   "execution_count": 11,
   "id": "8c9f140d",
   "metadata": {},
   "outputs": [
    {
     "name": "stdout",
     "output_type": "stream",
     "text": [
      "False\n"
     ]
    }
   ],
   "source": [
    "print ( \"leo\" in d )"
   ]
  },
  {
   "cell_type": "code",
   "execution_count": 12,
   "id": "60a4f53f",
   "metadata": {},
   "outputs": [
    {
     "name": "stdout",
     "output_type": "stream",
     "text": [
      "dan\n",
      "sam\n",
      "mac\n",
      "tom\n",
      "jim\n",
      "ben\n"
     ]
    }
   ],
   "source": [
    "for values in d:\n",
    "    print(values)"
   ]
  },
  {
   "cell_type": "code",
   "execution_count": 13,
   "id": "e80216ea",
   "metadata": {},
   "outputs": [
    {
     "name": "stdout",
     "output_type": "stream",
     "text": [
      "{'e', 'c', 'd', 'b', 'a'}\n",
      "{'e', 'o', 'u', 'i', 'a'}\n"
     ]
    }
   ],
   "source": [
    "x = { \"a\" , \"b\" , \"c\" , \"d\" , \"e\" }\n",
    "y = { \"a\" , \"e\" , \"i\" , \"o\" , \"u\" }\n",
    "print(x)\n",
    "print(y)"
   ]
  },
  {
   "cell_type": "code",
   "execution_count": 14,
   "id": "6281519d",
   "metadata": {},
   "outputs": [
    {
     "name": "stdout",
     "output_type": "stream",
     "text": [
      "{'c', 'i', 'a', 'e', 'o', 'd', 'b', 'u'}\n"
     ]
    }
   ],
   "source": [
    "print ( x | y )"
   ]
  },
  {
   "cell_type": "code",
   "execution_count": 15,
   "id": "23f3955b",
   "metadata": {},
   "outputs": [
    {
     "name": "stdout",
     "output_type": "stream",
     "text": [
      "{'e', 'a'}\n"
     ]
    }
   ],
   "source": [
    "print ( x & y )"
   ]
  },
  {
   "cell_type": "code",
   "execution_count": 16,
   "id": "491ff4ac",
   "metadata": {},
   "outputs": [
    {
     "name": "stdout",
     "output_type": "stream",
     "text": [
      "{'d', 'b', 'c'}\n"
     ]
    }
   ],
   "source": [
    "print ( x - y )"
   ]
  },
  {
   "cell_type": "code",
   "execution_count": 17,
   "id": "1574802b",
   "metadata": {},
   "outputs": [
    {
     "name": "stdout",
     "output_type": "stream",
     "text": [
      "{'o', 'i', 'u'}\n"
     ]
    }
   ],
   "source": [
    "print ( y - x )"
   ]
  },
  {
   "cell_type": "code",
   "execution_count": 18,
   "id": "04340d11",
   "metadata": {},
   "outputs": [
    {
     "name": "stdout",
     "output_type": "stream",
     "text": [
      "{'b', 'c', 'a'}\n"
     ]
    }
   ],
   "source": [
    "z = { \"a\" , \"b\" , \"c\" }\n",
    "print(z)"
   ]
  },
  {
   "cell_type": "code",
   "execution_count": 19,
   "id": "3d7b93a0",
   "metadata": {},
   "outputs": [
    {
     "name": "stdout",
     "output_type": "stream",
     "text": [
      "True\n"
     ]
    }
   ],
   "source": [
    "print ( z < x )"
   ]
  },
  {
   "cell_type": "code",
   "execution_count": 20,
   "id": "6d0c6583",
   "metadata": {},
   "outputs": [
    {
     "name": "stdout",
     "output_type": "stream",
     "text": [
      "False\n"
     ]
    }
   ],
   "source": [
    "print ( z < y )"
   ]
  },
  {
   "cell_type": "code",
   "execution_count": null,
   "id": "7d1c6516",
   "metadata": {},
   "outputs": [],
   "source": []
  }
 ],
 "metadata": {
  "kernelspec": {
   "display_name": "Python 3 (ipykernel)",
   "language": "python",
   "name": "python3"
  },
  "language_info": {
   "codemirror_mode": {
    "name": "ipython",
    "version": 3
   },
   "file_extension": ".py",
   "mimetype": "text/x-python",
   "name": "python",
   "nbconvert_exporter": "python",
   "pygments_lexer": "ipython3",
   "version": "3.10.9"
  }
 },
 "nbformat": 4,
 "nbformat_minor": 5
}
