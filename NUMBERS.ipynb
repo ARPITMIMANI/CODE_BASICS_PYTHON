{
 "cells": [
  {
   "cell_type": "code",
   "execution_count": 1,
   "id": "19337668",
   "metadata": {},
   "outputs": [
    {
     "name": "stdout",
     "output_type": "stream",
     "text": [
      "34\n"
     ]
    }
   ],
   "source": [
    "a = 24 \n",
    "b = 10\n",
    "c = a + b\n",
    "print(c)"
   ]
  },
  {
   "cell_type": "code",
   "execution_count": 2,
   "id": "b152abcb",
   "metadata": {},
   "outputs": [
    {
     "name": "stdout",
     "output_type": "stream",
     "text": [
      "34\n"
     ]
    }
   ],
   "source": [
    "print ( a + b )"
   ]
  },
  {
   "cell_type": "code",
   "execution_count": 3,
   "id": "8a270fce",
   "metadata": {},
   "outputs": [
    {
     "name": "stdout",
     "output_type": "stream",
     "text": [
      "14\n"
     ]
    }
   ],
   "source": [
    "print ( a - b )"
   ]
  },
  {
   "cell_type": "code",
   "execution_count": 4,
   "id": "2aa1b6f9",
   "metadata": {},
   "outputs": [
    {
     "name": "stdout",
     "output_type": "stream",
     "text": [
      "-14\n"
     ]
    }
   ],
   "source": [
    "print ( b - a ) "
   ]
  },
  {
   "cell_type": "code",
   "execution_count": 5,
   "id": "86e09fbe",
   "metadata": {},
   "outputs": [
    {
     "name": "stdout",
     "output_type": "stream",
     "text": [
      "240\n"
     ]
    }
   ],
   "source": [
    "print ( a * b )"
   ]
  },
  {
   "cell_type": "code",
   "execution_count": 6,
   "id": "b5d10d08",
   "metadata": {},
   "outputs": [
    {
     "name": "stdout",
     "output_type": "stream",
     "text": [
      "2.4\n"
     ]
    }
   ],
   "source": [
    "print ( a / b )"
   ]
  },
  {
   "cell_type": "code",
   "execution_count": 7,
   "id": "26cb07e5",
   "metadata": {},
   "outputs": [
    {
     "name": "stdout",
     "output_type": "stream",
     "text": [
      "2\n"
     ]
    }
   ],
   "source": [
    "print ( a // b )"
   ]
  },
  {
   "cell_type": "code",
   "execution_count": 8,
   "id": "b05ccfd5",
   "metadata": {},
   "outputs": [
    {
     "name": "stdout",
     "output_type": "stream",
     "text": [
      "4\n"
     ]
    }
   ],
   "source": [
    "print ( a % b )"
   ]
  },
  {
   "cell_type": "code",
   "execution_count": 9,
   "id": "6f04c57c",
   "metadata": {},
   "outputs": [
    {
     "name": "stdout",
     "output_type": "stream",
     "text": [
      "64\n"
     ]
    }
   ],
   "source": [
    "d = 4 \n",
    "e = 3\n",
    "f = d ** e\n",
    "print(f)"
   ]
  },
  {
   "cell_type": "code",
   "execution_count": 10,
   "id": "32e8bf67",
   "metadata": {},
   "outputs": [
    {
     "name": "stdout",
     "output_type": "stream",
     "text": [
      "81\n"
     ]
    }
   ],
   "source": [
    "print ( e ** d )"
   ]
  },
  {
   "cell_type": "code",
   "execution_count": 11,
   "id": "5d7586f8",
   "metadata": {},
   "outputs": [
    {
     "name": "stdout",
     "output_type": "stream",
     "text": [
      "2\n"
     ]
    }
   ],
   "source": [
    "g = 28\n",
    "b = 10\n",
    "print ( g // b )"
   ]
  },
  {
   "cell_type": "code",
   "execution_count": 12,
   "id": "d6d46a29",
   "metadata": {},
   "outputs": [
    {
     "name": "stdout",
     "output_type": "stream",
     "text": [
      "3.1622776601683795\n"
     ]
    }
   ],
   "source": [
    "h = 10 ** 0.5\n",
    "print(h)"
   ]
  },
  {
   "cell_type": "code",
   "execution_count": 13,
   "id": "e3e09322",
   "metadata": {},
   "outputs": [
    {
     "name": "stdout",
     "output_type": "stream",
     "text": [
      "3.162\n"
     ]
    }
   ],
   "source": [
    "print ( round ( h , 3 ) )"
   ]
  },
  {
   "cell_type": "code",
   "execution_count": 14,
   "id": "fda7a2e2",
   "metadata": {},
   "outputs": [
    {
     "name": "stdout",
     "output_type": "stream",
     "text": [
      "3.1623\n"
     ]
    }
   ],
   "source": [
    "print ( round ( h , 4 ) )"
   ]
  },
  {
   "cell_type": "code",
   "execution_count": 15,
   "id": "a5f90a84",
   "metadata": {},
   "outputs": [
    {
     "name": "stdout",
     "output_type": "stream",
     "text": [
      "3.16\n"
     ]
    }
   ],
   "source": [
    "print ( round ( h , 2 ) )"
   ]
  },
  {
   "cell_type": "code",
   "execution_count": 16,
   "id": "24f7bf67",
   "metadata": {},
   "outputs": [
    {
     "name": "stdout",
     "output_type": "stream",
     "text": [
      "3.2\n"
     ]
    }
   ],
   "source": [
    "print ( round ( h , 1 ) )"
   ]
  },
  {
   "cell_type": "code",
   "execution_count": 17,
   "id": "f1c64723",
   "metadata": {},
   "outputs": [
    {
     "name": "stdout",
     "output_type": "stream",
     "text": [
      "26\n"
     ]
    }
   ],
   "source": [
    "print ( 6 + 4 * 5 )"
   ]
  },
  {
   "cell_type": "code",
   "execution_count": 18,
   "id": "bae0763e",
   "metadata": {},
   "outputs": [
    {
     "name": "stdout",
     "output_type": "stream",
     "text": [
      "29\n"
     ]
    }
   ],
   "source": [
    "print ( 6 * 4 + 5 )"
   ]
  },
  {
   "cell_type": "code",
   "execution_count": 19,
   "id": "e0b6ceea",
   "metadata": {},
   "outputs": [
    {
     "name": "stdout",
     "output_type": "stream",
     "text": [
      "50\n"
     ]
    }
   ],
   "source": [
    "print ( ( 6 + 4 ) * 5 )"
   ]
  },
  {
   "cell_type": "code",
   "execution_count": 20,
   "id": "fbad90a4",
   "metadata": {},
   "outputs": [
    {
     "name": "stdout",
     "output_type": "stream",
     "text": [
      "18.0\n"
     ]
    }
   ],
   "source": [
    "print ( 8 * 2 + 6 / 3 )"
   ]
  },
  {
   "cell_type": "code",
   "execution_count": 21,
   "id": "587a37d5",
   "metadata": {},
   "outputs": [
    {
     "name": "stdout",
     "output_type": "stream",
     "text": [
      "2.4\n"
     ]
    }
   ],
   "source": [
    "print ( 12 / 5 )"
   ]
  },
  {
   "cell_type": "code",
   "execution_count": 22,
   "id": "52dc12cf",
   "metadata": {},
   "outputs": [
    {
     "name": "stdout",
     "output_type": "stream",
     "text": [
      "1.7999999999999998\n"
     ]
    }
   ],
   "source": [
    "print ( 6 - 4.2 )"
   ]
  },
  {
   "cell_type": "code",
   "execution_count": 23,
   "id": "06c75842",
   "metadata": {},
   "outputs": [
    {
     "name": "stdout",
     "output_type": "stream",
     "text": [
      "1.8\n"
     ]
    }
   ],
   "source": [
    "print ( round ( 6 - 4.2 , 2 ) )"
   ]
  },
  {
   "cell_type": "code",
   "execution_count": 24,
   "id": "ca36771d",
   "metadata": {},
   "outputs": [
    {
     "name": "stdout",
     "output_type": "stream",
     "text": [
      "1.8\n"
     ]
    }
   ],
   "source": [
    "print ( round ( 6 - 4.2 , 4 ) )"
   ]
  },
  {
   "cell_type": "code",
   "execution_count": 25,
   "id": "b9ed0ac9",
   "metadata": {},
   "outputs": [
    {
     "name": "stdout",
     "output_type": "stream",
     "text": [
      "1.8\n"
     ]
    }
   ],
   "source": [
    "print ( round ( 6 - 4.2 , 1 ) )"
   ]
  },
  {
   "cell_type": "code",
   "execution_count": null,
   "id": "8f03176b",
   "metadata": {},
   "outputs": [],
   "source": []
  }
 ],
 "metadata": {
  "kernelspec": {
   "display_name": "Python 3 (ipykernel)",
   "language": "python",
   "name": "python3"
  },
  "language_info": {
   "codemirror_mode": {
    "name": "ipython",
    "version": 3
   },
   "file_extension": ".py",
   "mimetype": "text/x-python",
   "name": "python",
   "nbconvert_exporter": "python",
   "pygments_lexer": "ipython3",
   "version": "3.10.9"
  }
 },
 "nbformat": 4,
 "nbformat_minor": 5
}
