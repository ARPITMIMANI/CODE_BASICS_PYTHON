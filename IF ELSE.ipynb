{
 "cells": [
  {
   "cell_type": "code",
   "execution_count": 1,
   "id": "e2589853",
   "metadata": {},
   "outputs": [
    {
     "name": "stdout",
     "output_type": "stream",
     "text": [
      "ENTER THE NUMBER : 32\n",
      "NUMBER IS EVEN\n"
     ]
    }
   ],
   "source": [
    "num = input(\"ENTER THE NUMBER : \")\n",
    "num = int(num)\n",
    "if num % 2 == 0 :\n",
    "    print(\"NUMBER IS EVEN\")\n",
    "else:\n",
    "    print(\"NUMBER IS ODD\")"
   ]
  },
  {
   "cell_type": "code",
   "execution_count": 2,
   "id": "ab509722",
   "metadata": {},
   "outputs": [
    {
     "name": "stdout",
     "output_type": "stream",
     "text": [
      "ENTER THE NUMBER : 81\n",
      "NUMBER IS ODD\n"
     ]
    }
   ],
   "source": [
    "num = input(\"ENTER THE NUMBER : \")\n",
    "num = int(num)\n",
    "if num % 2 == 0 :\n",
    "    print(\"NUMBER IS EVEN\")\n",
    "else:\n",
    "    print(\"NUMBER IS ODD\")       "
   ]
  },
  {
   "cell_type": "code",
   "execution_count": 3,
   "id": "dd6767e1",
   "metadata": {},
   "outputs": [
    {
     "name": "stdout",
     "output_type": "stream",
     "text": [
      "ENTER THE NUMBER : -6\n",
      "NUMBER IS EVEN\n"
     ]
    }
   ],
   "source": [
    "num = input(\"ENTER THE NUMBER : \")\n",
    "num = int(num)\n",
    "if num % 2 == 0 :\n",
    "    print(\"NUMBER IS EVEN\")\n",
    "else:\n",
    "    print(\"NUMBER IS ODD\") "
   ]
  },
  {
   "cell_type": "code",
   "execution_count": 4,
   "id": "2589319f",
   "metadata": {},
   "outputs": [
    {
     "name": "stdout",
     "output_type": "stream",
     "text": [
      "ENTER THE NUMBER : 0\n",
      "NUMBER IS EVEN\n"
     ]
    }
   ],
   "source": [
    "num = input(\"ENTER THE NUMBER : \")\n",
    "num = int(num)\n",
    "if num % 2 == 0 :\n",
    "    print(\"NUMBER IS EVEN\")\n",
    "else:\n",
    "    print(\"NUMBER IS ODD\") "
   ]
  },
  {
   "cell_type": "code",
   "execution_count": 5,
   "id": "cbb07a42",
   "metadata": {},
   "outputs": [
    {
     "name": "stdout",
     "output_type": "stream",
     "text": [
      "ENTER CITY NAME : HANOI\n",
      "CITY IN ASIA\n"
     ]
    }
   ],
   "source": [
    "asia = [ \"DELHI\" , \"JAKARTA\" , \"SINGAPORE\" , \"MANILA\" , \"HANOI\" , \"DHAKA\" , \"SEOUL\" , \"TOKYO\" , \"WUHAN\" , \"ANKARA\" ]\n",
    "america = [ \"BOGOTA\" , \"LIMA\", \"BRASILLA\" , \"QUITO\" , \"CARACAS\" , \"MEDELLIN\" , \"NATAL\" , \"AUSTIN\" , \"BOSTON\" , \"CALGARY\" ] \n",
    "europe = [ \"LONDON\" , \"BERLIN\" , \"LISBON\" , \"MADRID\" , \"PARIS\" , \"ROME\" , \"OSLO\" , \"WARSAW\" , \"RIGA\" , \"BERN\" ]\n",
    "city = input(\"ENTER CITY NAME : \")\n",
    "\n",
    "if city in asia:\n",
    "    print(\"CITY IN ASIA\")\n",
    "    \n",
    "elif city in america:\n",
    "    print(\"CITY IN AMERICA\")\n",
    "    \n",
    "elif city in europe:\n",
    "    print(\"CITY IN EUROPE\")\n",
    "    \n",
    "else:\n",
    "    print(\"I DONT KNOW\")    "
   ]
  },
  {
   "cell_type": "code",
   "execution_count": 6,
   "id": "f24ef6a5",
   "metadata": {},
   "outputs": [
    {
     "name": "stdout",
     "output_type": "stream",
     "text": [
      "ENTER CITY NAME : NATAL\n",
      "CITY IN AMERICA\n"
     ]
    }
   ],
   "source": [
    "asia = [ \"DELHI\" , \"JAKARTA\" , \"SINGAPORE\" , \"MANILA\" , \"HANOI\" , \"DHAKA\" , \"SEOUL\" , \"TOKYO\" , \"WUHAN\" , \"ANKARA\" ]\n",
    "america = [ \"BOGOTA\" , \"LIMA\", \"BRASILLA\" , \"QUITO\" , \"CARACAS\" , \"MEDELLIN\" , \"NATAL\" , \"AUSTIN\" , \"BOSTON\" , \"CALGARY\" ] \n",
    "europe = [ \"LONDON\" , \"BERLIN\" , \"LISBON\" , \"MADRID\" , \"PARIS\" , \"ROME\" , \"OSLO\" , \"WARSAW\" , \"RIGA\" , \"BERN\" ]\n",
    "city = input(\"ENTER CITY NAME : \")\n",
    "\n",
    "if city in asia:\n",
    "    print(\"CITY IN ASIA\")\n",
    "    \n",
    "elif city in america:\n",
    "    print(\"CITY IN AMERICA\")\n",
    "    \n",
    "elif city in europe:\n",
    "    print(\"CITY IN EUROPE\")\n",
    "    \n",
    "else:\n",
    "    print(\"I DONT KNOW\")    "
   ]
  },
  {
   "cell_type": "code",
   "execution_count": 7,
   "id": "70941d91",
   "metadata": {},
   "outputs": [
    {
     "name": "stdout",
     "output_type": "stream",
     "text": [
      "ENTER CITY NAME : WARSAW\n",
      "CITY IN EUROPE\n"
     ]
    }
   ],
   "source": [
    "asia = [ \"DELHI\" , \"JAKARTA\" , \"SINGAPORE\" , \"MANILA\" , \"HANOI\" , \"DHAKA\" , \"SEOUL\" , \"TOKYO\" , \"WUHAN\" , \"ANKARA\" ]\n",
    "america = [ \"BOGOTA\" , \"LIMA\", \"BRASILLA\" , \"QUITO\" , \"CARACAS\" , \"MEDELLIN\" , \"NATAL\" , \"AUSTIN\" , \"BOSTON\" , \"CALGARY\" ] \n",
    "europe = [ \"LONDON\" , \"BERLIN\" , \"LISBON\" , \"MADRID\" , \"PARIS\" , \"ROME\" , \"OSLO\" , \"WARSAW\" , \"RIGA\" , \"BERN\" ]\n",
    "city = input(\"ENTER CITY NAME : \")\n",
    "\n",
    "if city in asia:\n",
    "    print(\"CITY IN ASIA\")\n",
    "    \n",
    "elif city in america:\n",
    "    print(\"CITY IN AMERICA\")\n",
    "    \n",
    "elif city in europe:\n",
    "    print(\"CITY IN EUROPE\")\n",
    "    \n",
    "else:\n",
    "    print(\"I DONT KNOW\")    "
   ]
  },
  {
   "cell_type": "code",
   "execution_count": 8,
   "id": "016c6131",
   "metadata": {},
   "outputs": [
    {
     "name": "stdout",
     "output_type": "stream",
     "text": [
      "ENTER CITY NAME : DUBAI\n",
      "I DONT KNOW\n"
     ]
    }
   ],
   "source": [
    "asia = [ \"DELHI\" , \"JAKARTA\" , \"SINGAPORE\" , \"MANILA\" , \"HANOI\" , \"DHAKA\" , \"SEOUL\" , \"TOKYO\" , \"WUHAN\" , \"ANKARA\" ]\n",
    "america = [ \"BOGOTA\" , \"LIMA\", \"BRASILLA\" , \"QUITO\" , \"CARACAS\" , \"MEDELLIN\" , \"NATAL\" , \"AUSTIN\" , \"BOSTON\" , \"CALGARY\" ] \n",
    "europe = [ \"LONDON\" , \"BERLIN\" , \"LISBON\" , \"MADRID\" , \"PARIS\" , \"ROME\" , \"OSLO\" , \"WARSAW\" , \"RIGA\" , \"BERN\" ]\n",
    "city = input(\"ENTER CITY NAME : \")\n",
    "\n",
    "if city in asia:\n",
    "    print(\"CITY IN ASIA\")\n",
    "    \n",
    "elif city in america:\n",
    "    print(\"CITY IN AMERICA\")\n",
    "    \n",
    "elif city in europe:\n",
    "    print(\"CITY IN EUROPE\")\n",
    "    \n",
    "else:\n",
    "    print(\"I DONT KNOW\")    "
   ]
  },
  {
   "cell_type": "code",
   "execution_count": null,
   "id": "765d4143",
   "metadata": {},
   "outputs": [],
   "source": []
  }
 ],
 "metadata": {
  "kernelspec": {
   "display_name": "Python 3 (ipykernel)",
   "language": "python",
   "name": "python3"
  },
  "language_info": {
   "codemirror_mode": {
    "name": "ipython",
    "version": 3
   },
   "file_extension": ".py",
   "mimetype": "text/x-python",
   "name": "python",
   "nbconvert_exporter": "python",
   "pygments_lexer": "ipython3",
   "version": "3.10.9"
  }
 },
 "nbformat": 4,
 "nbformat_minor": 5
}
