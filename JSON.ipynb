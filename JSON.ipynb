{
 "cells": [
  {
   "cell_type": "code",
   "execution_count": 1,
   "id": "4e94e7c7",
   "metadata": {},
   "outputs": [
    {
     "name": "stdout",
     "output_type": "stream",
     "text": [
      "{\"tom\": {\"name\": \"tom\", \"address\": \"caracas\", \"phone\": 456}, \"bob\": {\"name\": \"bob\", \"address\": \"medellin\", \"phone\": 678}}\n"
     ]
    }
   ],
   "source": [
    "book = {}\n",
    "book[\"tom\"] = {\n",
    "    \"name\" : \"tom\" ,\n",
    "    \"address\" : \"caracas\" ,\n",
    "    \"phone\" : 456\n",
    "}\n",
    "book[\"bob\"] = {\n",
    "    \"name\" : \"bob\" ,\n",
    "    \"address\" : \"medellin\" ,\n",
    "    \"phone\" : 678\n",
    "}\n",
    "import json\n",
    "s = json.dumps(book)\n",
    "print(s)"
   ]
  },
  {
   "cell_type": "code",
   "execution_count": 2,
   "id": "6f73950f",
   "metadata": {},
   "outputs": [],
   "source": [
    "with open ( \"e:\\\\book.txt\" , \"w\" ) as f:\n",
    "    f.write(s)"
   ]
  },
  {
   "cell_type": "code",
   "execution_count": 3,
   "id": "587252df",
   "metadata": {},
   "outputs": [],
   "source": [
    "with open ( \"C:\\\\Users\\\\ARPIT-MIMANI\\\\CODE BASICS PYTHON\\\\book.txt\" , \"w\" ) as f:\n",
    "    f.write(s)"
   ]
  },
  {
   "cell_type": "code",
   "execution_count": 4,
   "id": "7ba8ebfe",
   "metadata": {},
   "outputs": [
    {
     "name": "stdout",
     "output_type": "stream",
     "text": [
      "{\"tom\": {\"name\": \"tom\", \"address\": \"caracas\", \"phone\": 456}, \"bob\": {\"name\": \"bob\", \"address\": \"medellin\", \"phone\": 678}}\n"
     ]
    }
   ],
   "source": [
    "f = open ( \"C:\\\\Users\\\\ARPIT-MIMANI\\\\CODE BASICS PYTHON\\\\book.txt\" , \"r\" )\n",
    "s = f.read()\n",
    "print(s)"
   ]
  },
  {
   "cell_type": "code",
   "execution_count": 5,
   "id": "2c6c5538",
   "metadata": {},
   "outputs": [
    {
     "name": "stdout",
     "output_type": "stream",
     "text": [
      "<class 'dict'>\n"
     ]
    }
   ],
   "source": [
    "print ( type(book) )"
   ]
  },
  {
   "cell_type": "code",
   "execution_count": 6,
   "id": "532ed4fa",
   "metadata": {},
   "outputs": [
    {
     "name": "stdout",
     "output_type": "stream",
     "text": [
      "{'tom': {'name': 'tom', 'address': 'caracas', 'phone': 456}, 'bob': {'name': 'bob', 'address': 'medellin', 'phone': 678}}\n"
     ]
    }
   ],
   "source": [
    "book = json.loads(s)\n",
    "print(book)"
   ]
  },
  {
   "cell_type": "code",
   "execution_count": 7,
   "id": "6a9d0dbf",
   "metadata": {},
   "outputs": [
    {
     "name": "stdout",
     "output_type": "stream",
     "text": [
      "{'name': 'bob', 'address': 'medellin', 'phone': 678}\n"
     ]
    }
   ],
   "source": [
    "print ( book[\"bob\"] )"
   ]
  },
  {
   "cell_type": "code",
   "execution_count": 8,
   "id": "c999cd52",
   "metadata": {},
   "outputs": [
    {
     "name": "stdout",
     "output_type": "stream",
     "text": [
      "678\n"
     ]
    }
   ],
   "source": [
    "print ( book[\"bob\"][\"phone\"] )"
   ]
  },
  {
   "cell_type": "code",
   "execution_count": 9,
   "id": "5052cb87",
   "metadata": {},
   "outputs": [
    {
     "name": "stdout",
     "output_type": "stream",
     "text": [
      "{'name': 'tom', 'address': 'caracas', 'phone': 456}\n",
      "{'name': 'bob', 'address': 'medellin', 'phone': 678}\n"
     ]
    }
   ],
   "source": [
    "for person in book:\n",
    "    print ( book[person] )"
   ]
  },
  {
   "cell_type": "code",
   "execution_count": null,
   "id": "349b1130",
   "metadata": {},
   "outputs": [],
   "source": []
  },
  {
   "cell_type": "code",
   "execution_count": null,
   "id": "7e024b34",
   "metadata": {},
   "outputs": [],
   "source": []
  }
 ],
 "metadata": {
  "kernelspec": {
   "display_name": "Python 3 (ipykernel)",
   "language": "python",
   "name": "python3"
  },
  "language_info": {
   "codemirror_mode": {
    "name": "ipython",
    "version": 3
   },
   "file_extension": ".py",
   "mimetype": "text/x-python",
   "name": "python",
   "nbconvert_exporter": "python",
   "pygments_lexer": "ipython3",
   "version": "3.10.9"
  }
 },
 "nbformat": 4,
 "nbformat_minor": 5
}
