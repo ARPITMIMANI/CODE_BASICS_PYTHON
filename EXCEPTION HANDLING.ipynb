{
 "cells": [
  {
   "cell_type": "code",
   "execution_count": 1,
   "id": "51314ce9",
   "metadata": {},
   "outputs": [
    {
     "name": "stdout",
     "output_type": "stream",
     "text": [
      "ENTER NUMBER 1: 48\n",
      "ENTER NUMBER 2: 5\n",
      "THE DIVISION IS : 9.6\n"
     ]
    }
   ],
   "source": [
    "x = input(\"ENTER NUMBER 1: \")\n",
    "y = input(\"ENTER NUMBER 2: \")\n",
    "z = int(x) / int(y)\n",
    "print ( \"THE DIVISION IS :\" , z ) "
   ]
  },
  {
   "cell_type": "code",
   "execution_count": 2,
   "id": "5c06f934",
   "metadata": {},
   "outputs": [
    {
     "name": "stdout",
     "output_type": "stream",
     "text": [
      "ENTER NUMBER 1: 128\n",
      "ENTER NUMBER 2: 25\n",
      "THE DIVISION IS : 5.12\n"
     ]
    }
   ],
   "source": [
    "x = input(\"ENTER NUMBER 1: \")\n",
    "y = input(\"ENTER NUMBER 2: \")\n",
    "\n",
    "x = int(x)\n",
    "y = int(y)\n",
    "\n",
    "z = x / y \n",
    "print ( \"THE DIVISION IS :\" , z ) "
   ]
  },
  {
   "cell_type": "code",
   "execution_count": 3,
   "id": "58916f59",
   "metadata": {},
   "outputs": [
    {
     "name": "stdout",
     "output_type": "stream",
     "text": [
      "ENTER NUMBER 1: 20\n",
      "ENTER NUMBER 2: 0\n",
      "EXCEPTION OCCURED division by zero\n",
      "THE DIVISION IS : None\n"
     ]
    }
   ],
   "source": [
    "x = input(\"ENTER NUMBER 1: \")\n",
    "y = input(\"ENTER NUMBER 2: \")\n",
    "\n",
    "try:\n",
    "   z = int(x) / int(y)\n",
    "\n",
    "except Exception as e:\n",
    "    print ( \"EXCEPTION OCCURED\" , e )\n",
    "    z = None\n",
    "    \n",
    "print ( \"THE DIVISION IS :\" , z ) "
   ]
  },
  {
   "cell_type": "code",
   "execution_count": 4,
   "id": "68036bdc",
   "metadata": {},
   "outputs": [
    {
     "name": "stdout",
     "output_type": "stream",
     "text": [
      "ENTER NUMBER 1: 128\n",
      "ENTER NUMBER 2: 50\n",
      "THE DIVISION IS : 2.56\n"
     ]
    }
   ],
   "source": [
    "x = input(\"ENTER NUMBER 1: \")\n",
    "y = input(\"ENTER NUMBER 2: \")\n",
    "\n",
    "try:\n",
    "   z = int(x) / int(y)\n",
    "\n",
    "except Exception as e:\n",
    "    print ( \"EXCEPTION OCCURED\" , e )\n",
    "    z = None\n",
    "    \n",
    "print ( \"THE DIVISION IS :\" , z ) "
   ]
  },
  {
   "cell_type": "code",
   "execution_count": 5,
   "id": "c6bf342d",
   "metadata": {},
   "outputs": [
    {
     "name": "stdout",
     "output_type": "stream",
     "text": [
      "ENTER NUMBER 1: 6\n",
      "ENTER NUMBER 2: 0\n",
      "DIVISION BY ZERO EXCEPTION\n",
      "THE DIVISION IS : None\n"
     ]
    }
   ],
   "source": [
    "x = input(\"ENTER NUMBER 1: \")\n",
    "y = input(\"ENTER NUMBER 2: \")\n",
    "\n",
    "try:\n",
    "   z = int(x) / int(y)\n",
    "\n",
    "except ZeroDivisionError as e:\n",
    "    print ( \"DIVISION BY ZERO EXCEPTION\" )\n",
    "    z = None\n",
    "    \n",
    "print ( \"THE DIVISION IS :\" , z ) "
   ]
  },
  {
   "cell_type": "code",
   "execution_count": 6,
   "id": "0ef8da65",
   "metadata": {},
   "outputs": [
    {
     "name": "stdout",
     "output_type": "stream",
     "text": [
      "ENTER NUMBER 1: 78\n",
      "ENTER NUMBER 2: 8\n",
      "THE DIVISION IS : 9.75\n"
     ]
    }
   ],
   "source": [
    "x = input(\"ENTER NUMBER 1: \")\n",
    "y = input(\"ENTER NUMBER 2: \")\n",
    "\n",
    "try:\n",
    "   z = int(x) / int(y)\n",
    "\n",
    "except ZeroDivisionError as e:\n",
    "    print ( \"DIVISION BY ZERO EXCEPTION\" )\n",
    "    z = None\n",
    "    \n",
    "print ( \"THE DIVISION IS :\" , z ) "
   ]
  },
  {
   "cell_type": "code",
   "execution_count": 7,
   "id": "031fcb69",
   "metadata": {},
   "outputs": [
    {
     "name": "stdout",
     "output_type": "stream",
     "text": [
      "ENTER NUMBER 1: 18\n",
      "ENTER NUMBER 2: 8\n",
      "EXCEPTION TYPE TypeError\n",
      "THE DIVISION IS : None\n"
     ]
    }
   ],
   "source": [
    "x = input(\"ENTER NUMBER 1: \")\n",
    "y = input(\"ENTER NUMBER 2: \")\n",
    "\n",
    "try:\n",
    "   z = x / int(y)\n",
    "\n",
    "except ZeroDivisionError as e:\n",
    "    print ( \"DIVISION BY ZERO EXCEPTION\" )\n",
    "    z = None\n",
    "    \n",
    "except Exception as e:\n",
    "    print ( \"EXCEPTION TYPE\" , type(e).__name__ )\n",
    "    z = None\n",
    "    \n",
    "print ( \"THE DIVISION IS :\" , z ) "
   ]
  },
  {
   "cell_type": "code",
   "execution_count": 8,
   "id": "5e67fa0f",
   "metadata": {},
   "outputs": [
    {
     "name": "stdout",
     "output_type": "stream",
     "text": [
      "ENTER NUMBER 1: 24\n",
      "ENTER NUMBER 2: 6\n",
      "TYPE ERROR EXCEPTION\n",
      "THE DIVISION IS : None\n"
     ]
    }
   ],
   "source": [
    "x = input(\"ENTER NUMBER 1: \")\n",
    "y = input(\"ENTER NUMBER 2: \")\n",
    "\n",
    "try:\n",
    "   z = x / int(y)\n",
    "\n",
    "except ZeroDivisionError as e:\n",
    "    print ( \"DIVISION BY ZERO ERROR EXCEPTION\" )\n",
    "    z = None\n",
    "    \n",
    "except TypeError as e:\n",
    "    print ( \"TYPE ERROR EXCEPTION\" )\n",
    "    z = None\n",
    "    \n",
    "print ( \"THE DIVISION IS :\" , z ) "
   ]
  },
  {
   "cell_type": "code",
   "execution_count": null,
   "id": "726f26be",
   "metadata": {},
   "outputs": [],
   "source": []
  }
 ],
 "metadata": {
  "kernelspec": {
   "display_name": "Python 3 (ipykernel)",
   "language": "python",
   "name": "python3"
  },
  "language_info": {
   "codemirror_mode": {
    "name": "ipython",
    "version": 3
   },
   "file_extension": ".py",
   "mimetype": "text/x-python",
   "name": "python",
   "nbconvert_exporter": "python",
   "pygments_lexer": "ipython3",
   "version": "3.10.9"
  }
 },
 "nbformat": 4,
 "nbformat_minor": 5
}
