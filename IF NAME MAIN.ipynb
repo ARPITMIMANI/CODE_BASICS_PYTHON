{
 "cells": [
  {
   "cell_type": "code",
   "execution_count": 1,
   "id": "e32563d4",
   "metadata": {},
   "outputs": [
    {
     "name": "stdout",
     "output_type": "stream",
     "text": [
      "AREA OF TRIANGLE IS : 144.0\n"
     ]
    }
   ],
   "source": [
    "def area_of_triangle ( b , h ):\n",
    "    a = 0.5 * b * h\n",
    "    return a\n",
    "\n",
    "if __name__ == \"__main__\" :\n",
    "    x = area_of_triangle ( 24 , 12 )\n",
    "    print( \"AREA OF TRIANGLE IS :\" , x )"
   ]
  },
  {
   "cell_type": "code",
   "execution_count": 2,
   "id": "c2f5ceb9",
   "metadata": {},
   "outputs": [
    {
     "name": "stdout",
     "output_type": "stream",
     "text": [
      "__main__\n"
     ]
    }
   ],
   "source": [
    "print ( __name__ )"
   ]
  },
  {
   "cell_type": "code",
   "execution_count": 3,
   "id": "d109ee21",
   "metadata": {},
   "outputs": [
    {
     "name": "stdout",
     "output_type": "stream",
     "text": [
      "__name__: __main__\n",
      "AREA OF TRIANGLE IS : 144.0\n"
     ]
    }
   ],
   "source": [
    "def area_of_triangle ( b , h ):\n",
    "    print ( \"__name__:\" , __name__ )\n",
    "    a = 0.5 * b * h\n",
    "    return a\n",
    "\n",
    "if __name__ == \"__main__\" :\n",
    "    x = area_of_triangle ( 24 , 12 )\n",
    "    print( \"AREA OF TRIANGLE IS :\" , x )"
   ]
  },
  {
   "cell_type": "code",
   "execution_count": null,
   "id": "344be630",
   "metadata": {},
   "outputs": [],
   "source": []
  }
 ],
 "metadata": {
  "kernelspec": {
   "display_name": "Python 3 (ipykernel)",
   "language": "python",
   "name": "python3"
  },
  "language_info": {
   "codemirror_mode": {
    "name": "ipython",
    "version": 3
   },
   "file_extension": ".py",
   "mimetype": "text/x-python",
   "name": "python",
   "nbconvert_exporter": "python",
   "pygments_lexer": "ipython3",
   "version": "3.10.9"
  }
 },
 "nbformat": 4,
 "nbformat_minor": 5
}
