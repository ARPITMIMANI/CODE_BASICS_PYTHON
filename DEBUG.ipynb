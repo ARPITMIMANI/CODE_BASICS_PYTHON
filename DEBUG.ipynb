{
 "cells": [
  {
   "cell_type": "code",
   "execution_count": 1,
   "id": "1c5d6f3b",
   "metadata": {},
   "outputs": [
    {
     "name": "stdout",
     "output_type": "stream",
     "text": [
      "864.0\n"
     ]
    }
   ],
   "source": [
    "base = 48\n",
    "height = 36\n",
    "area = 0.5 * base * height\n",
    "print(area)"
   ]
  },
  {
   "cell_type": "code",
   "execution_count": 2,
   "id": "5686a192",
   "metadata": {},
   "outputs": [
    {
     "name": "stdout",
     "output_type": "stream",
     "text": [
      "area of triangle is : 864.0\n"
     ]
    }
   ],
   "source": [
    "print ( \"area of triangle is :\" , area )"
   ]
  },
  {
   "cell_type": "code",
   "execution_count": 3,
   "id": "23836c77",
   "metadata": {},
   "outputs": [
    {
     "name": "stdout",
     "output_type": "stream",
     "text": [
      "area of triangle is : 864.0\n"
     ]
    }
   ],
   "source": [
    "print ( \"area of triangle is :\" , area )"
   ]
  },
  {
   "cell_type": "code",
   "execution_count": null,
   "id": "d7da636b",
   "metadata": {},
   "outputs": [],
   "source": []
  }
 ],
 "metadata": {
  "kernelspec": {
   "display_name": "Python 3 (ipykernel)",
   "language": "python",
   "name": "python3"
  },
  "language_info": {
   "codemirror_mode": {
    "name": "ipython",
    "version": 3
   },
   "file_extension": ".py",
   "mimetype": "text/x-python",
   "name": "python",
   "nbconvert_exporter": "python",
   "pygments_lexer": "ipython3",
   "version": "3.10.9"
  }
 },
 "nbformat": 4,
 "nbformat_minor": 5
}
