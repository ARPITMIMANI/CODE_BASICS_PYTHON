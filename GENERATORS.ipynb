{
 "cells": [
  {
   "cell_type": "code",
   "execution_count": 1,
   "id": "27654719",
   "metadata": {},
   "outputs": [],
   "source": [
    "def remote_control():\n",
    "    yield \"AXN\"\n",
    "    yield \"CGTN\"\n",
    "    yield \"ESPN\"\n",
    "    yield \"HB0\"\n",
    "    yield \"MGM\"\n",
    "    yield \"NDTV\"\n",
    "    yield \"TCM\"\n",
    "    yield \"TNT\"    "
   ]
  },
  {
   "cell_type": "code",
   "execution_count": 2,
   "id": "1f92aaf6",
   "metadata": {},
   "outputs": [
    {
     "name": "stdout",
     "output_type": "stream",
     "text": [
      "<generator object remote_control at 0x000001C06494DA10>\n"
     ]
    }
   ],
   "source": [
    "a = remote_control()\n",
    "print(a)"
   ]
  },
  {
   "cell_type": "code",
   "execution_count": 3,
   "id": "0f4e70ee",
   "metadata": {},
   "outputs": [
    {
     "name": "stdout",
     "output_type": "stream",
     "text": [
      "AXN\n",
      "CGTN\n",
      "ESPN\n",
      "HB0\n",
      "MGM\n",
      "NDTV\n",
      "TCM\n",
      "TNT\n"
     ]
    }
   ],
   "source": [
    "print (next(a) )\n",
    "print (next(a) )\n",
    "print (next(a) )\n",
    "print (next(a) )\n",
    "print (next(a) )\n",
    "print (next(a) )\n",
    "print (next(a) )\n",
    "print (next(a) )"
   ]
  },
  {
   "cell_type": "code",
   "execution_count": 4,
   "id": "5ae7e9fa",
   "metadata": {},
   "outputs": [
    {
     "name": "stdout",
     "output_type": "stream",
     "text": [
      "AXN\n",
      "CGTN\n",
      "ESPN\n",
      "HB0\n",
      "MGM\n",
      "NDTV\n",
      "TCM\n",
      "TNT\n"
     ]
    }
   ],
   "source": [
    "for b in remote_control():\n",
    "    print(b)"
   ]
  },
  {
   "cell_type": "code",
   "execution_count": 5,
   "id": "a465736f",
   "metadata": {},
   "outputs": [
    {
     "name": "stdout",
     "output_type": "stream",
     "text": [
      "0\n",
      "1\n",
      "1\n",
      "2\n",
      "3\n",
      "5\n",
      "8\n",
      "13\n",
      "21\n",
      "34\n",
      "55\n",
      "89\n"
     ]
    }
   ],
   "source": [
    "def fib():\n",
    "    x , y = 0 , 1\n",
    "    while True:\n",
    "        yield x\n",
    "        x , y = y , x+y\n",
    "        \n",
    "for c in fib():\n",
    "    if c > 100:\n",
    "        break\n",
    "    print(c)                  "
   ]
  },
  {
   "cell_type": "code",
   "execution_count": 6,
   "id": "a8d261e0",
   "metadata": {},
   "outputs": [
    {
     "name": "stdout",
     "output_type": "stream",
     "text": [
      "0\n",
      "1\n",
      "1\n",
      "2\n",
      "3\n",
      "5\n",
      "8\n",
      "13\n",
      "21\n",
      "34\n",
      "55\n",
      "89\n"
     ]
    }
   ],
   "source": [
    "def fib():\n",
    "    x = 0 \n",
    "    y = 1\n",
    "    while True:\n",
    "        yield x\n",
    "        x , y = y , x+y\n",
    "        \n",
    "for c in fib():\n",
    "    if c > 100:\n",
    "        break\n",
    "    print(c) "
   ]
  },
  {
   "cell_type": "code",
   "execution_count": 7,
   "id": "a44772bc",
   "metadata": {},
   "outputs": [
    {
     "name": "stdout",
     "output_type": "stream",
     "text": [
      "0\n",
      "1\n",
      "2\n",
      "4\n",
      "8\n",
      "16\n",
      "32\n",
      "64\n"
     ]
    }
   ],
   "source": [
    "def fib():\n",
    "    x = 0 \n",
    "    y = 1\n",
    "    while True:\n",
    "        yield x\n",
    "        x = y \n",
    "        y = x+y\n",
    "        \n",
    "for c in fib():\n",
    "    if c > 100:\n",
    "        break\n",
    "    print(c) "
   ]
  },
  {
   "cell_type": "code",
   "execution_count": null,
   "id": "3c29e165",
   "metadata": {},
   "outputs": [],
   "source": []
  }
 ],
 "metadata": {
  "kernelspec": {
   "display_name": "Python 3 (ipykernel)",
   "language": "python",
   "name": "python3"
  },
  "language_info": {
   "codemirror_mode": {
    "name": "ipython",
    "version": 3
   },
   "file_extension": ".py",
   "mimetype": "text/x-python",
   "name": "python",
   "nbconvert_exporter": "python",
   "pygments_lexer": "ipython3",
   "version": "3.10.9"
  }
 },
 "nbformat": 4,
 "nbformat_minor": 5
}
