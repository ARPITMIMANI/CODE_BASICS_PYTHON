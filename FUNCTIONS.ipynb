{
 "cells": [
  {
   "cell_type": "code",
   "execution_count": 1,
   "id": "d03a5099",
   "metadata": {},
   "outputs": [
    {
     "name": "stdout",
     "output_type": "stream",
     "text": [
      "TOM TOAL EXPENSES IS 13440\n",
      "JOE TOAL EXPENSES IS 14040\n"
     ]
    }
   ],
   "source": [
    "def cal_total(exp):\n",
    "    total = 0 \n",
    "    for item in exp:\n",
    "        total = total + item\n",
    "    return total\n",
    "\n",
    "tom_exp = [ 3200 , 3640 , 3240 , 3360 ]\n",
    "joe_exp = [ 3400 , 3560 , 3600 , 3480 ]\n",
    "\n",
    "\n",
    "toms_total = cal_total(tom_exp)\n",
    "joes_total = cal_total(joe_exp)\n",
    "\n",
    "\n",
    "print ( \"TOM TOAL EXPENSES IS\" , toms_total )\n",
    "print ( \"JOE TOAL EXPENSES IS\" , joes_total )"
   ]
  },
  {
   "cell_type": "code",
   "execution_count": 2,
   "id": "668c5771",
   "metadata": {},
   "outputs": [
    {
     "name": "stdout",
     "output_type": "stream",
     "text": [
      "52\n"
     ]
    }
   ],
   "source": [
    "def add (x,y):\n",
    "    c = x + y\n",
    "    return c\n",
    "\n",
    "n = add(20,32)\n",
    "print(n)"
   ]
  },
  {
   "cell_type": "code",
   "execution_count": 3,
   "id": "e0b2c26e",
   "metadata": {},
   "outputs": [
    {
     "name": "stdout",
     "output_type": "stream",
     "text": [
      "TOTAL: 52\n"
     ]
    }
   ],
   "source": [
    "def add (x,y):\n",
    "    c = x + y\n",
    "    return c\n",
    "\n",
    "n = add(20,32)\n",
    "print(\"TOTAL:\",n)"
   ]
  },
  {
   "cell_type": "code",
   "execution_count": 4,
   "id": "28610742",
   "metadata": {},
   "outputs": [
    {
     "name": "stdout",
     "output_type": "stream",
     "text": [
      "N1 20\n",
      "N2 32\n",
      "TOTAL INSIDE FUNCTION : 52\n",
      "TOTAL OUTSIDE FUNCTION : 52\n"
     ]
    }
   ],
   "source": [
    "def add (x,y):\n",
    "    print(\"N1\",x)\n",
    "    print(\"N2\",y)\n",
    "    t = x + y\n",
    "    print(\"TOTAL INSIDE FUNCTION :\",t)\n",
    "    return t\n",
    "\n",
    "n = add(20,32)\n",
    "print(\"TOTAL OUTSIDE FUNCTION :\",n)"
   ]
  },
  {
   "cell_type": "code",
   "execution_count": 5,
   "id": "13cbafc1",
   "metadata": {},
   "outputs": [
    {
     "name": "stdout",
     "output_type": "stream",
     "text": [
      "N1 20\n",
      "N2 32\n",
      "TOTAL INSIDE FUNCTION : 52\n",
      "52\n"
     ]
    }
   ],
   "source": [
    "def add (x,y):\n",
    "    print(\"N1\",x)\n",
    "    print(\"N2\",y)\n",
    "    t = x + y\n",
    "    print(\"TOTAL INSIDE FUNCTION :\",t)\n",
    "    return t\n",
    "\n",
    "print ( add(20,32) )"
   ]
  },
  {
   "cell_type": "code",
   "execution_count": 6,
   "id": "c1c261b9",
   "metadata": {},
   "outputs": [
    {
     "name": "stdout",
     "output_type": "stream",
     "text": [
      "N1 12\n",
      "N2 24\n",
      "TOTAL INSIDE FUNCTION : 36\n",
      "36\n"
     ]
    }
   ],
   "source": [
    "n = add ( x=12 , y=24 )\n",
    "print(n)"
   ]
  },
  {
   "cell_type": "code",
   "execution_count": 7,
   "id": "c728aaa9",
   "metadata": {},
   "outputs": [
    {
     "name": "stdout",
     "output_type": "stream",
     "text": [
      "N1 32\n",
      "N2 16\n",
      "TOTAL INSIDE FUNCTION : 48\n",
      "48\n"
     ]
    }
   ],
   "source": [
    "n = add ( y=16 , x=32 )\n",
    "print(n)"
   ]
  },
  {
   "cell_type": "code",
   "execution_count": 8,
   "id": "935d6d49",
   "metadata": {},
   "outputs": [
    {
     "name": "stdout",
     "output_type": "stream",
     "text": [
      "N1 : 20\n",
      "N2 : 32\n",
      "TOTAL INSIDE FUNCTION : 52\n",
      "TOTAL OUTSIDE FUNCTION : 100\n"
     ]
    }
   ],
   "source": [
    "t = 100\n",
    "def add (x,y):\n",
    "    print(\"N1 :\",x)\n",
    "    print(\"N2 :\",y)\n",
    "    t = x + y\n",
    "    print(\"TOTAL INSIDE FUNCTION :\",t)\n",
    "    return t\n",
    "\n",
    "n = add(20,32)\n",
    "print(\"TOTAL OUTSIDE FUNCTION :\",t)"
   ]
  },
  {
   "cell_type": "code",
   "execution_count": 9,
   "id": "f47eb350",
   "metadata": {},
   "outputs": [
    {
     "name": "stdout",
     "output_type": "stream",
     "text": [
      "N1 : 48\n",
      "N2 : 64\n",
      "TOTAL INSIDE FUNCTION : 112\n",
      "TOTAL OUTSIDE FUNCTION : 112\n",
      "N1 : 48\n",
      "N2 : 42\n",
      "TOTAL INSIDE FUNCTION : 90\n",
      "TOTAL OUTSIDE FUNCTION : 90\n"
     ]
    }
   ],
   "source": [
    "def add (x,y=42):\n",
    "    print(\"N1 :\",x)\n",
    "    print(\"N2 :\",y)\n",
    "    t = x + y\n",
    "    print(\"TOTAL INSIDE FUNCTION :\",t)\n",
    "    return t\n",
    "\n",
    "n = add(48,64)\n",
    "print ( \"TOTAL OUTSIDE FUNCTION :\" , n )\n",
    "\n",
    "m = add(48)\n",
    "print ( \"TOTAL OUTSIDE FUNCTION :\" , m )"
   ]
  },
  {
   "cell_type": "code",
   "execution_count": 10,
   "id": "6382695d",
   "metadata": {},
   "outputs": [
    {
     "name": "stdout",
     "output_type": "stream",
     "text": [
      "N1 : 48\n",
      "N2 : 64\n",
      "TOTAL INSIDE FUNCTION : 112\n",
      "TOTAL OUTSIDE FUNCTION : 112\n",
      "N1 : 48\n",
      "N2 : 42\n",
      "TOTAL INSIDE FUNCTION : 90\n",
      "TOTAL OUTSIDE FUNCTION : 90\n"
     ]
    }
   ],
   "source": [
    "def add (x,y=42):\n",
    "    \"\"\"\n",
    "    THIS FUNCTION TAKES TWO INTEGER VALUES \n",
    "    AND RETURNS THE SUMS OF THE \n",
    "    INTERGER VALUES\n",
    "    \"\"\"\n",
    "    print(\"N1 :\",x)\n",
    "    print(\"N2 :\",y)\n",
    "    t = x + y\n",
    "    print(\"TOTAL INSIDE FUNCTION :\",t)\n",
    "    return t\n",
    "\n",
    "n = add(48,64)\n",
    "print ( \"TOTAL OUTSIDE FUNCTION :\" , n )\n",
    "\n",
    "m = add(48)\n",
    "print ( \"TOTAL OUTSIDE FUNCTION :\" , m )"
   ]
  },
  {
   "cell_type": "code",
   "execution_count": null,
   "id": "77cb6d11",
   "metadata": {},
   "outputs": [],
   "source": []
  }
 ],
 "metadata": {
  "kernelspec": {
   "display_name": "Python 3 (ipykernel)",
   "language": "python",
   "name": "python3"
  },
  "language_info": {
   "codemirror_mode": {
    "name": "ipython",
    "version": 3
   },
   "file_extension": ".py",
   "mimetype": "text/x-python",
   "name": "python",
   "nbconvert_exporter": "python",
   "pygments_lexer": "ipython3",
   "version": "3.10.9"
  }
 },
 "nbformat": 4,
 "nbformat_minor": 5
}
