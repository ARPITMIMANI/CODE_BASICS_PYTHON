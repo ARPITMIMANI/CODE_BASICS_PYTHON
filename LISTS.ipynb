{
 "cells": [
  {
   "cell_type": "code",
   "execution_count": 1,
   "id": "7ef1381d",
   "metadata": {},
   "outputs": [
    {
     "name": "stdout",
     "output_type": "stream",
     "text": [
      "['banana', 'apple', 'mango', 'watermelon', 'grape', 'orange', 'guava', 'strawberry']\n"
     ]
    }
   ],
   "source": [
    "fruits = [ \"banana\" , \"apple\" , \"mango\" , \"watermelon\" , \"grape\" , \"orange\" , \"guava\" , \"strawberry\" ]\n",
    "print(fruits)"
   ]
  },
  {
   "cell_type": "code",
   "execution_count": 2,
   "id": "774a1c3d",
   "metadata": {},
   "outputs": [
    {
     "name": "stdout",
     "output_type": "stream",
     "text": [
      "grape\n"
     ]
    }
   ],
   "source": [
    "print(fruits[4])"
   ]
  },
  {
   "cell_type": "code",
   "execution_count": 3,
   "id": "cc910ac0",
   "metadata": {},
   "outputs": [
    {
     "name": "stdout",
     "output_type": "stream",
     "text": [
      "banana\n"
     ]
    }
   ],
   "source": [
    "print(fruits[0])"
   ]
  },
  {
   "cell_type": "code",
   "execution_count": 4,
   "id": "d0fa7140",
   "metadata": {},
   "outputs": [
    {
     "name": "stdout",
     "output_type": "stream",
     "text": [
      "['banana', 'apple', 'mango', 'watermelon', 'pear', 'orange', 'guava', 'strawberry']\n"
     ]
    }
   ],
   "source": [
    "fruits[4] = \"pear\"\n",
    "print(fruits)"
   ]
  },
  {
   "cell_type": "code",
   "execution_count": 5,
   "id": "8b52f258",
   "metadata": {},
   "outputs": [
    {
     "name": "stdout",
     "output_type": "stream",
     "text": [
      "['banana', 'apple', 'mango', 'watermelon']\n"
     ]
    }
   ],
   "source": [
    "print(fruits[0:4])"
   ]
  },
  {
   "cell_type": "code",
   "execution_count": 6,
   "id": "8d7683d7",
   "metadata": {},
   "outputs": [
    {
     "name": "stdout",
     "output_type": "stream",
     "text": [
      "['banana', 'apple', 'mango', 'watermelon', 'pear', 'orange', 'guava', 'strawberry', 'grape']\n"
     ]
    }
   ],
   "source": [
    "fruits.append(\"grape\")\n",
    "print(fruits)"
   ]
  },
  {
   "cell_type": "code",
   "execution_count": 7,
   "id": "6384d058",
   "metadata": {},
   "outputs": [
    {
     "name": "stdout",
     "output_type": "stream",
     "text": [
      "['banana', 'apple', 'mango', 'watermelon', 'pear', 'orange', 'lychee', 'guava', 'strawberry', 'grape']\n"
     ]
    }
   ],
   "source": [
    "fruits.insert ( 6 , \"lychee\" )\n",
    "print(fruits)"
   ]
  },
  {
   "cell_type": "code",
   "execution_count": 8,
   "id": "e4490d1c",
   "metadata": {},
   "outputs": [
    {
     "name": "stdout",
     "output_type": "stream",
     "text": [
      "['banana', 'apple', 'mango', 'watermelon', 'pear', 'orange', 'lychee', 'guava', 'strawberry', 'grape']\n"
     ]
    }
   ],
   "source": [
    "fruits  = ['banana',\n",
    " 'apple',\n",
    " 'mango',\n",
    " 'watermelon',\n",
    " 'pear',\n",
    " 'orange',\n",
    " 'lychee',\n",
    " 'guava',\n",
    " 'strawberry',\n",
    " 'grape']\n",
    "print(fruits)"
   ]
  },
  {
   "cell_type": "code",
   "execution_count": 9,
   "id": "13ccc6f9",
   "metadata": {},
   "outputs": [
    {
     "name": "stdout",
     "output_type": "stream",
     "text": [
      "['tomato', 'potato', 'carrot', 'cabbage', 'corn', 'beetroot', 'pumpkin', 'greenpeas']\n"
     ]
    }
   ],
   "source": [
    "vegetables = [ \"tomato\" , \"potato\" , \"carrot\" , \"cabbage\" , \"corn\" , \"beetroot\" , \"pumpkin\" , \"greenpeas\" ]\n",
    "print(vegetables)"
   ]
  },
  {
   "cell_type": "code",
   "execution_count": 10,
   "id": "48ec50dc",
   "metadata": {},
   "outputs": [
    {
     "name": "stdout",
     "output_type": "stream",
     "text": [
      "['banana', 'apple', 'mango', 'watermelon', 'pear', 'orange', 'lychee', 'guava', 'strawberry', 'grape', 'tomato', 'potato', 'carrot', 'cabbage', 'corn', 'beetroot', 'pumpkin', 'greenpeas']\n"
     ]
    }
   ],
   "source": [
    "food_items = fruits + vegetables\n",
    "print(food_items)"
   ]
  },
  {
   "cell_type": "code",
   "execution_count": 11,
   "id": "aa5ad235",
   "metadata": {},
   "outputs": [
    {
     "name": "stdout",
     "output_type": "stream",
     "text": [
      "18\n"
     ]
    }
   ],
   "source": [
    "print ( len(food_items) )"
   ]
  },
  {
   "cell_type": "code",
   "execution_count": 12,
   "id": "65c19e9e",
   "metadata": {},
   "outputs": [
    {
     "name": "stdout",
     "output_type": "stream",
     "text": [
      "10\n"
     ]
    }
   ],
   "source": [
    "print ( len(fruits) )"
   ]
  },
  {
   "cell_type": "code",
   "execution_count": 13,
   "id": "fb15dd21",
   "metadata": {},
   "outputs": [
    {
     "name": "stdout",
     "output_type": "stream",
     "text": [
      "8\n"
     ]
    }
   ],
   "source": [
    "print ( len(vegetables) )"
   ]
  },
  {
   "cell_type": "code",
   "execution_count": 14,
   "id": "d51f2c83",
   "metadata": {},
   "outputs": [
    {
     "name": "stdout",
     "output_type": "stream",
     "text": [
      "False\n"
     ]
    }
   ],
   "source": [
    "print ( \"cucumber\" in vegetables )"
   ]
  },
  {
   "cell_type": "code",
   "execution_count": 15,
   "id": "729126c8",
   "metadata": {},
   "outputs": [
    {
     "name": "stdout",
     "output_type": "stream",
     "text": [
      "True\n"
     ]
    }
   ],
   "source": [
    "print ( \"carrot\" in vegetables )"
   ]
  },
  {
   "cell_type": "code",
   "execution_count": 16,
   "id": "30127e92",
   "metadata": {},
   "outputs": [
    {
     "name": "stdout",
     "output_type": "stream",
     "text": [
      "['banana', 'apple', 'mango', 'watermelon', 'pear', 'orange', 'lychee', 'guava', 'strawberry', 'grape', 'tomato', 'potato', 'carrot', 'cabbage', 'corn', 'beetroot', 'pumpkin', 'greenpeas']\n"
     ]
    }
   ],
   "source": [
    "print(food_items)"
   ]
  },
  {
   "cell_type": "code",
   "execution_count": null,
   "id": "e97b45d8",
   "metadata": {},
   "outputs": [],
   "source": []
  }
 ],
 "metadata": {
  "kernelspec": {
   "display_name": "Python 3 (ipykernel)",
   "language": "python",
   "name": "python3"
  },
  "language_info": {
   "codemirror_mode": {
    "name": "ipython",
    "version": 3
   },
   "file_extension": ".py",
   "mimetype": "text/x-python",
   "name": "python",
   "nbconvert_exporter": "python",
   "pygments_lexer": "ipython3",
   "version": "3.10.9"
  }
 },
 "nbformat": 4,
 "nbformat_minor": 5
}
