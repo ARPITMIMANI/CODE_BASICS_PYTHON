{
 "cells": [
  {
   "cell_type": "code",
   "execution_count": 1,
   "id": "94aebeec",
   "metadata": {},
   "outputs": [],
   "source": [
    "class Father():\n",
    "    def driving(self):\n",
    "        print(\"FATHER LIKES DRIVING\")\n",
    "        \n",
    "class Mother():\n",
    "    def shopping(self):\n",
    "        print(\"MOTHER LIKES SHOPPING\")\n",
    "        \n",
    "class Child(Father,Mother):\n",
    "    def playing(self):\n",
    "        print(\"CHILD LIKES PLAYING\")"
   ]
  },
  {
   "cell_type": "code",
   "execution_count": 2,
   "id": "d81cd9d5",
   "metadata": {},
   "outputs": [
    {
     "name": "stdout",
     "output_type": "stream",
     "text": [
      "FATHER LIKES DRIVING\n",
      "MOTHER LIKES SHOPPING\n",
      "CHILD LIKES PLAYING\n"
     ]
    }
   ],
   "source": [
    "x = Child()\n",
    "x.driving()\n",
    "x.shopping()\n",
    "x.playing()"
   ]
  },
  {
   "cell_type": "code",
   "execution_count": 3,
   "id": "6074ccf0",
   "metadata": {},
   "outputs": [],
   "source": [
    "class Father():\n",
    "    def skills(self):\n",
    "        print(\"FATHER LIKES DRIVING\")\n",
    "        \n",
    "class Mother():\n",
    "    def skills(self):\n",
    "        print(\"MOTHER LIKES SHOPPING\")\n",
    "        \n",
    "class Child(Father,Mother):\n",
    "    def skills(self):\n",
    "        print(\"CHILD LIKES PLAYING\")"
   ]
  },
  {
   "cell_type": "code",
   "execution_count": 4,
   "id": "ad117d2c",
   "metadata": {},
   "outputs": [
    {
     "name": "stdout",
     "output_type": "stream",
     "text": [
      "CHILD LIKES PLAYING\n"
     ]
    }
   ],
   "source": [
    "y = Child()\n",
    "y.skills()"
   ]
  },
  {
   "cell_type": "code",
   "execution_count": 5,
   "id": "dcb06cee",
   "metadata": {},
   "outputs": [],
   "source": [
    "class Father():\n",
    "    def skills(self):\n",
    "        print(\"FATHER LIKES DRIVING\")\n",
    "        \n",
    "class Mother():\n",
    "    def skills(self):\n",
    "        print(\"MOTHER LIKES SHOPPING\")\n",
    "        \n",
    "class Child(Father,Mother):\n",
    "    def skills(self):\n",
    "        Father.skills(self)\n",
    "        Mother.skills(self)\n",
    "        print(\"CHILD LIKES PLAYING\")"
   ]
  },
  {
   "cell_type": "code",
   "execution_count": 6,
   "id": "90f970bf",
   "metadata": {},
   "outputs": [
    {
     "name": "stdout",
     "output_type": "stream",
     "text": [
      "FATHER LIKES DRIVING\n",
      "MOTHER LIKES SHOPPING\n",
      "CHILD LIKES PLAYING\n"
     ]
    }
   ],
   "source": [
    "z = Child()\n",
    "z.skills()"
   ]
  },
  {
   "cell_type": "code",
   "execution_count": null,
   "id": "e8676370",
   "metadata": {},
   "outputs": [],
   "source": []
  }
 ],
 "metadata": {
  "kernelspec": {
   "display_name": "Python 3 (ipykernel)",
   "language": "python",
   "name": "python3"
  },
  "language_info": {
   "codemirror_mode": {
    "name": "ipython",
    "version": 3
   },
   "file_extension": ".py",
   "mimetype": "text/x-python",
   "name": "python",
   "nbconvert_exporter": "python",
   "pygments_lexer": "ipython3",
   "version": "3.10.9"
  }
 },
 "nbformat": 4,
 "nbformat_minor": 5
}
