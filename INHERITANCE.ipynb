{
 "cells": [
  {
   "cell_type": "code",
   "execution_count": 1,
   "id": "6b71cef1",
   "metadata": {},
   "outputs": [],
   "source": [
    "class Vehicle:\n",
    "    \n",
    "    def general_usage (self) :\n",
    "        print ( \"GENERAL USAGE IS TRANSPORTATION\" )\n",
    "        \n",
    "class Car(Vehicle) :\n",
    "    \n",
    "    def __init__ (self) :\n",
    "        print ( \"I AM A CAR\" )\n",
    "        self.wheels = 4\n",
    "        self.has_roof = True\n",
    "        \n",
    "    def specific_usage (self) :\n",
    "        print ( \"SPECIFIC USE : COMMUTE TO WORK , VACATION WITH FAMILY \" )\n",
    "        \n",
    "class Bike(Vehicle) :\n",
    "    \n",
    "    def __init__ (self) :\n",
    "        print ( \"I AM A BIKE\" )\n",
    "        self.wheels = 2\n",
    "        self.has_roof = False\n",
    "        \n",
    "    def specific_usage (self) :\n",
    "        print ( \"SPECIFIC USE : ROAD TRIPS , RACING \" )        \n",
    "        "
   ]
  },
  {
   "cell_type": "code",
   "execution_count": 2,
   "id": "f07396c8",
   "metadata": {},
   "outputs": [
    {
     "name": "stdout",
     "output_type": "stream",
     "text": [
      "I AM A CAR\n",
      "GENERAL USAGE IS TRANSPORTATION\n",
      "SPECIFIC USE : COMMUTE TO WORK , VACATION WITH FAMILY \n"
     ]
    }
   ],
   "source": [
    "c = Car()\n",
    "c.general_usage()\n",
    "c.specific_usage()"
   ]
  },
  {
   "cell_type": "code",
   "execution_count": 3,
   "id": "8fc52efc",
   "metadata": {},
   "outputs": [
    {
     "name": "stdout",
     "output_type": "stream",
     "text": [
      "I AM A BIKE\n",
      "GENERAL USAGE IS TRANSPORTATION\n",
      "SPECIFIC USE : ROAD TRIPS , RACING \n"
     ]
    }
   ],
   "source": [
    "b = Bike()\n",
    "b.general_usage()\n",
    "b.specific_usage()"
   ]
  },
  {
   "cell_type": "code",
   "execution_count": 4,
   "id": "a31e0970",
   "metadata": {},
   "outputs": [],
   "source": [
    "class Vehicle:\n",
    "    \n",
    "    def general_usage (self) :\n",
    "        print ( \"GENERAL USAGE IS TRANSPORTATION\" )\n",
    "        \n",
    "class Car(Vehicle) :\n",
    "    \n",
    "    def __init__ (self) :\n",
    "        print ( \"I AM A CAR\" )\n",
    "        self.wheels = 4\n",
    "        self.has_roof = True\n",
    "        \n",
    "    def specific_usage (self) :\n",
    "        self.general_usage()\n",
    "        print ( \"SPECIFIC USE : COMMUTE TO WORK , VACATION WITH FAMILY \" )\n",
    "        \n",
    "class Bike(Vehicle) :\n",
    "    \n",
    "    def __init__ (self) :\n",
    "        print ( \"I AM A BIKE\" )\n",
    "        self.wheels = 2\n",
    "        self.has_roof = False\n",
    "        \n",
    "    def specific_usage (self) :\n",
    "        self.general_usage()\n",
    "        print ( \"SPECIFIC USE : ROAD TRIPS , RACING \" )        \n",
    "        "
   ]
  },
  {
   "cell_type": "code",
   "execution_count": 5,
   "id": "c6270e39",
   "metadata": {},
   "outputs": [
    {
     "name": "stdout",
     "output_type": "stream",
     "text": [
      "I AM A CAR\n",
      "GENERAL USAGE IS TRANSPORTATION\n",
      "SPECIFIC USE : COMMUTE TO WORK , VACATION WITH FAMILY \n"
     ]
    }
   ],
   "source": [
    "c = Car()\n",
    "c.specific_usage()"
   ]
  },
  {
   "cell_type": "code",
   "execution_count": 6,
   "id": "6c6029a3",
   "metadata": {},
   "outputs": [
    {
     "name": "stdout",
     "output_type": "stream",
     "text": [
      "I AM A BIKE\n",
      "GENERAL USAGE IS TRANSPORTATION\n",
      "SPECIFIC USE : ROAD TRIPS , RACING \n"
     ]
    }
   ],
   "source": [
    "b = Bike()\n",
    "b.specific_usage()"
   ]
  },
  {
   "cell_type": "code",
   "execution_count": 7,
   "id": "2908f8ce",
   "metadata": {},
   "outputs": [
    {
     "name": "stdout",
     "output_type": "stream",
     "text": [
      "I AM A CAR\n",
      "I AM A BIKE\n",
      "True\n",
      "False\n",
      "False\n",
      "True\n"
     ]
    }
   ],
   "source": [
    "c = Car()\n",
    "b = Bike()\n",
    "print ( isinstance (c,Car) )\n",
    "print ( isinstance (c,Bike) )\n",
    "print ( isinstance (b,Car) )\n",
    "print ( isinstance (b,Bike) )"
   ]
  },
  {
   "cell_type": "code",
   "execution_count": 8,
   "id": "54b0dbdf",
   "metadata": {},
   "outputs": [
    {
     "name": "stdout",
     "output_type": "stream",
     "text": [
      "I AM A CAR\n",
      "I AM A BIKE\n",
      "True\n",
      "True\n",
      "False\n",
      "False\n"
     ]
    }
   ],
   "source": [
    "c = Car()\n",
    "b = Bike()\n",
    "print ( issubclass (Car,Vehicle) )\n",
    "print ( issubclass (Bike,Vehicle) )\n",
    "print ( issubclass (Vehicle,Car) )\n",
    "print ( issubclass (Vehicle,Bike) )"
   ]
  },
  {
   "cell_type": "code",
   "execution_count": null,
   "id": "5ec49551",
   "metadata": {},
   "outputs": [],
   "source": []
  }
 ],
 "metadata": {
  "kernelspec": {
   "display_name": "Python 3 (ipykernel)",
   "language": "python",
   "name": "python3"
  },
  "language_info": {
   "codemirror_mode": {
    "name": "ipython",
    "version": 3
   },
   "file_extension": ".py",
   "mimetype": "text/x-python",
   "name": "python",
   "nbconvert_exporter": "python",
   "pygments_lexer": "ipython3",
   "version": "3.10.9"
  }
 },
 "nbformat": 4,
 "nbformat_minor": 5
}
