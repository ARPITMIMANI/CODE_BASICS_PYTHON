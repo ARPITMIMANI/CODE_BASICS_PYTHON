{
 "cells": [
  {
   "cell_type": "code",
   "execution_count": 1,
   "id": "fcc2ce0a",
   "metadata": {},
   "outputs": [],
   "source": [
    "class Human:\n",
    "    \n",
    "    def __init__ ( self , n , o ) :\n",
    "        self.name = n\n",
    "        self.occupation = o\n",
    "        \n",
    "    def do_work(self): \n",
    "        if self.occupation == \"TENNIS PLAYER\" :\n",
    "            print ( self.name , \"PLAYS TENNIS\" )\n",
    "        elif self.occupation == \"FOOTBALL PLAYER\" :\n",
    "            print ( self.name , \"PLAYS FOOTBALL\" )\n",
    "    \n",
    "    def speaks(self):\n",
    "        print (self.name , \"SAYS HOW ARE YOU ?\" )        "
   ]
  },
  {
   "cell_type": "code",
   "execution_count": 2,
   "id": "87fafd71",
   "metadata": {},
   "outputs": [
    {
     "name": "stdout",
     "output_type": "stream",
     "text": [
      "LIONEL MESSI PLAYS FOOTBALL\n",
      "LIONEL MESSI SAYS HOW ARE YOU ?\n"
     ]
    }
   ],
   "source": [
    "x = Human ( \"LIONEL MESSI\" , \"FOOTBALL PLAYER\" )\n",
    "x.do_work()\n",
    "x.speaks()"
   ]
  },
  {
   "cell_type": "code",
   "execution_count": 3,
   "id": "69dbef6a",
   "metadata": {},
   "outputs": [
    {
     "name": "stdout",
     "output_type": "stream",
     "text": [
      "RAFAEL NADAL PLAYS TENNIS\n",
      "RAFAEL NADAL SAYS HOW ARE YOU ?\n"
     ]
    }
   ],
   "source": [
    "y = Human ( \"RAFAEL NADAL\" , \"TENNIS PLAYER\" )\n",
    "y.do_work()\n",
    "y.speaks()"
   ]
  },
  {
   "cell_type": "code",
   "execution_count": null,
   "id": "1447979d",
   "metadata": {},
   "outputs": [],
   "source": []
  }
 ],
 "metadata": {
  "kernelspec": {
   "display_name": "Python 3 (ipykernel)",
   "language": "python",
   "name": "python3"
  },
  "language_info": {
   "codemirror_mode": {
    "name": "ipython",
    "version": 3
   },
   "file_extension": ".py",
   "mimetype": "text/x-python",
   "name": "python",
   "nbconvert_exporter": "python",
   "pygments_lexer": "ipython3",
   "version": "3.10.9"
  }
 },
 "nbformat": 4,
 "nbformat_minor": 5
}
