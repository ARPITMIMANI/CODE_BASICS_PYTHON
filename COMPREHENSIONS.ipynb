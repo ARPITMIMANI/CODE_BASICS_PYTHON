{
 "cells": [
  {
   "cell_type": "code",
   "execution_count": 1,
   "id": "f9b790e7",
   "metadata": {},
   "outputs": [
    {
     "name": "stdout",
     "output_type": "stream",
     "text": [
      "[12, 14, 16, 18, 20]\n"
     ]
    }
   ],
   "source": [
    "numbers = [11,12,13,14,15,16,17,18,19,20]\n",
    "even = []\n",
    "\n",
    "for a in numbers:\n",
    "    if a % 2 == 0:\n",
    "        even.append(a)\n",
    "\n",
    "print(even)        "
   ]
  },
  {
   "cell_type": "code",
   "execution_count": 2,
   "id": "dde62eaa",
   "metadata": {},
   "outputs": [
    {
     "name": "stdout",
     "output_type": "stream",
     "text": [
      "[12, 14, 16, 18, 20]\n"
     ]
    }
   ],
   "source": [
    "even_num = [ b for b in numbers if b % 2 == 0 ]\n",
    "print(even_num)"
   ]
  },
  {
   "cell_type": "code",
   "execution_count": 3,
   "id": "d56a814f",
   "metadata": {},
   "outputs": [
    {
     "name": "stdout",
     "output_type": "stream",
     "text": [
      "[121, 144, 169, 196, 225, 256, 289, 324, 361, 400]\n"
     ]
    }
   ],
   "source": [
    "square_num = [ c*c for c in numbers ]\n",
    "print(square_num)"
   ]
  },
  {
   "cell_type": "code",
   "execution_count": 4,
   "id": "16ed9b93",
   "metadata": {},
   "outputs": [
    {
     "name": "stdout",
     "output_type": "stream",
     "text": [
      "{1, 2, 3, 4, 5, 6}\n"
     ]
    }
   ],
   "source": [
    "d = {4,6,3,1,4,5,2,4,3,1,6,5,1,2}\n",
    "print(d)"
   ]
  },
  {
   "cell_type": "code",
   "execution_count": 5,
   "id": "8ba26038",
   "metadata": {},
   "outputs": [
    {
     "name": "stdout",
     "output_type": "stream",
     "text": [
      "{1, 3, 5}\n"
     ]
    }
   ],
   "source": [
    "odd_num = { odd for odd in d if odd % 2 != 0 }\n",
    "print(odd_num)"
   ]
  },
  {
   "cell_type": "code",
   "execution_count": 6,
   "id": "b77f5f6c",
   "metadata": {},
   "outputs": [
    {
     "name": "stdout",
     "output_type": "stream",
     "text": [
      "<zip object at 0x00000256A3247780>\n"
     ]
    }
   ],
   "source": [
    "cities = { \"CANBERRA\" , \"BELMOPAN\" , \"OTTAWA\" , \"HAVANA\" , \"ATHENS\" , \"DUBLIN\" , \"ROME\" , \"RIGA\" , \"OSLO\" , \"LIMA\" }\n",
    "countries = { \"AUSTRALIA\" , \"BELIZE\" , \"CANADA\" , \"CUBA\" , \"GREECE\" , \"IRELAND\" , \"ITALY\" , \"LATVIA\" , \"NORWAY\" , \"PERU\" }\n",
    "e = zip(cities,countries)\n",
    "print(e)"
   ]
  },
  {
   "cell_type": "code",
   "execution_count": 7,
   "id": "2906a5ce",
   "metadata": {},
   "outputs": [
    {
     "name": "stdout",
     "output_type": "stream",
     "text": [
      "('BELMOPAN', 'AUSTRALIA')\n",
      "('LIMA', 'CUBA')\n",
      "('ROME', 'PERU')\n",
      "('OTTAWA', 'GREECE')\n",
      "('HAVANA', 'ITALY')\n",
      "('RIGA', 'BELIZE')\n",
      "('ATHENS', 'LATVIA')\n",
      "('DUBLIN', 'CANADA')\n",
      "('OSLO', 'IRELAND')\n",
      "('CANBERRA', 'NORWAY')\n"
     ]
    }
   ],
   "source": [
    "for item in e:\n",
    "  print(item)"
   ]
  },
  {
   "cell_type": "code",
   "execution_count": 8,
   "id": "19f2fba5",
   "metadata": {},
   "outputs": [
    {
     "name": "stdout",
     "output_type": "stream",
     "text": [
      "{'BELMOPAN': 'AUSTRALIA', 'LIMA': 'CUBA', 'ROME': 'PERU', 'OTTAWA': 'GREECE', 'HAVANA': 'ITALY', 'RIGA': 'BELIZE', 'ATHENS': 'LATVIA', 'DUBLIN': 'CANADA', 'OSLO': 'IRELAND', 'CANBERRA': 'NORWAY'}\n"
     ]
    }
   ],
   "source": [
    "f = { city:country for city,country in zip(cities,countries) }\n",
    "print(f)"
   ]
  },
  {
   "cell_type": "code",
   "execution_count": 9,
   "id": "5a2aa3ff",
   "metadata": {},
   "outputs": [
    {
     "name": "stdout",
     "output_type": "stream",
     "text": [
      "{}\n"
     ]
    }
   ],
   "source": [
    "f = { city:country for city,country in e }\n",
    "print(f)"
   ]
  },
  {
   "cell_type": "code",
   "execution_count": 10,
   "id": "c48423cf",
   "metadata": {},
   "outputs": [
    {
     "name": "stdout",
     "output_type": "stream",
     "text": [
      "<class 'zip'>\n"
     ]
    }
   ],
   "source": [
    "print ( type(e) )"
   ]
  },
  {
   "cell_type": "code",
   "execution_count": 11,
   "id": "c1b09dce",
   "metadata": {},
   "outputs": [
    {
     "name": "stdout",
     "output_type": "stream",
     "text": [
      "<class 'set'>\n"
     ]
    }
   ],
   "source": [
    "print ( type(d) )"
   ]
  },
  {
   "cell_type": "code",
   "execution_count": 12,
   "id": "82239287",
   "metadata": {},
   "outputs": [
    {
     "name": "stdout",
     "output_type": "stream",
     "text": [
      "<class 'dict'>\n"
     ]
    }
   ],
   "source": [
    "print ( type(f) )"
   ]
  },
  {
   "cell_type": "code",
   "execution_count": null,
   "id": "13bdf025",
   "metadata": {},
   "outputs": [],
   "source": []
  }
 ],
 "metadata": {
  "kernelspec": {
   "display_name": "Python 3 (ipykernel)",
   "language": "python",
   "name": "python3"
  },
  "language_info": {
   "codemirror_mode": {
    "name": "ipython",
    "version": 3
   },
   "file_extension": ".py",
   "mimetype": "text/x-python",
   "name": "python",
   "nbconvert_exporter": "python",
   "pygments_lexer": "ipython3",
   "version": "3.10.9"
  }
 },
 "nbformat": 4,
 "nbformat_minor": 5
}
