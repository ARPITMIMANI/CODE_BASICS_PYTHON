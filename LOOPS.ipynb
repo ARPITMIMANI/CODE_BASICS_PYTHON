{
 "cells": [
  {
   "cell_type": "code",
   "execution_count": 1,
   "id": "76a6df84",
   "metadata": {},
   "outputs": [
    {
     "name": "stdout",
     "output_type": "stream",
     "text": [
      "14800\n"
     ]
    }
   ],
   "source": [
    "expenses = [ 2400 , 2560 , 2340 , 2500 , 2480 , 2520 ]\n",
    "total = 0\n",
    "for x in expenses:\n",
    "    total = total + x\n",
    "print(total)    "
   ]
  },
  {
   "cell_type": "code",
   "execution_count": 2,
   "id": "4400d2f0",
   "metadata": {},
   "outputs": [
    {
     "name": "stdout",
     "output_type": "stream",
     "text": [
      "1\n",
      "2\n",
      "3\n",
      "4\n",
      "5\n",
      "6\n",
      "7\n",
      "8\n",
      "9\n",
      "10\n"
     ]
    }
   ],
   "source": [
    "for y in range(1,11):\n",
    "    print(y)"
   ]
  },
  {
   "cell_type": "code",
   "execution_count": 3,
   "id": "3ede6f59",
   "metadata": {},
   "outputs": [
    {
     "name": "stdout",
     "output_type": "stream",
     "text": [
      "1\n",
      "4\n",
      "9\n",
      "16\n",
      "25\n",
      "36\n",
      "49\n",
      "64\n",
      "81\n",
      "100\n"
     ]
    }
   ],
   "source": [
    "for y in range(1,11):\n",
    "    print(y*y)"
   ]
  },
  {
   "cell_type": "code",
   "execution_count": 4,
   "id": "1d933a45",
   "metadata": {},
   "outputs": [
    {
     "name": "stdout",
     "output_type": "stream",
     "text": [
      "MONTH : 1 EXPENSE : 2400\n",
      "MONTH : 2 EXPENSE : 2560\n",
      "MONTH : 3 EXPENSE : 2340\n",
      "MONTH : 4 EXPENSE : 2500\n",
      "MONTH : 5 EXPENSE : 2480\n",
      "MONTH : 6 EXPENSE : 2520\n",
      "MY TOTAL EXPENSES IS : 14800\n"
     ]
    }
   ],
   "source": [
    "expenses = [ 2400 , 2560 , 2340 , 2500 , 2480 , 2520 ]\n",
    "total = 0 \n",
    "for z in range(len(expenses)):\n",
    "    print ( \"MONTH :\" , z+1 , \"EXPENSE :\" , expenses[z] )\n",
    "    total = total + expenses[z]\n",
    "print ( \"MY TOTAL EXPENSES IS :\" , total )    "
   ]
  },
  {
   "cell_type": "code",
   "execution_count": 5,
   "id": "47535ec1",
   "metadata": {},
   "outputs": [
    {
     "name": "stdout",
     "output_type": "stream",
     "text": [
      "MONTH : 1 EXPENSE : 2400\n",
      "MONTH : 2 EXPENSE : 2560\n",
      "MONTH : 3 EXPENSE : 2340\n",
      "MONTH : 4 EXPENSE : 2500\n",
      "MONTH : 5 EXPENSE : 2480\n",
      "MONTH : 6 EXPENSE : 2520\n",
      "MY TOTAL EXPENSES IS : 14800\n"
     ]
    }
   ],
   "source": [
    "expenses = [ 2400 , 2560 , 2340 , 2500 , 2480 , 2520 ]\n",
    "total = 0 \n",
    "for z in range(6):\n",
    "    print ( \"MONTH :\" , z+1 , \"EXPENSE :\" , expenses[z] )\n",
    "    total = total + expenses[z]\n",
    "print ( \"MY TOTAL EXPENSES IS :\" , total )    "
   ]
  },
  {
   "cell_type": "code",
   "execution_count": 6,
   "id": "99e3d909",
   "metadata": {},
   "outputs": [
    {
     "name": "stdout",
     "output_type": "stream",
     "text": [
      "MONTH : 1 EXPENSE : 2400\n",
      "MONTH : 2 EXPENSE : 2560\n",
      "MONTH : 3 EXPENSE : 2340\n",
      "MONTH : 4 EXPENSE : 2500\n",
      "MONTH : 5 EXPENSE : 2480\n",
      "MONTH : 6 EXPENSE : 2520\n",
      "MY TOTAL EXPENSES IS : 14800\n"
     ]
    }
   ],
   "source": [
    "expenses = [ 2400 , 2560 , 2340 , 2500 , 2480 , 2520 ]\n",
    "total = 0 \n",
    "for z in range(0,6):\n",
    "    print ( \"MONTH :\" , z+1 , \"EXPENSE :\" , expenses[z] )\n",
    "    total = total + expenses[z]\n",
    "print ( \"MY TOTAL EXPENSES IS :\" , total )    "
   ]
  },
  {
   "cell_type": "code",
   "execution_count": 7,
   "id": "96fc51c1",
   "metadata": {},
   "outputs": [
    {
     "name": "stdout",
     "output_type": "stream",
     "text": [
      "key is not found in table\n",
      "key is not found in garage\n",
      "key is not found in bedroom\n",
      "key is not found in hall\n",
      "key is not found in kitchen\n",
      "key is not found in livingroom\n",
      "key is found in chair\n",
      "key is not found in window\n",
      "key is not found in cupboard\n",
      "key is not found in templeroom\n"
     ]
    }
   ],
   "source": [
    "key_location = \"chair\"\n",
    "locations = [ \"table\" , \"garage\" , \"bedroom\" , \"hall\" , \"kitchen\" , \"livingroom\" , \n",
    "             \"chair\" , \"window\" , \"cupboard\" , \"templeroom\" ]\n",
    "\n",
    "for key in locations:\n",
    "    if key == key_location:\n",
    "        print ( \"key is found in\" , key )\n",
    "    else:\n",
    "        print ( \"key is not found in\" , key )    "
   ]
  },
  {
   "cell_type": "code",
   "execution_count": 8,
   "id": "e4673620",
   "metadata": {},
   "outputs": [
    {
     "name": "stdout",
     "output_type": "stream",
     "text": [
      "key is not found in table\n",
      "key is not found in garage\n",
      "key is not found in bedroom\n",
      "key is not found in hall\n",
      "key is not found in kitchen\n",
      "key is not found in livingroom\n",
      "key is found in chair\n"
     ]
    }
   ],
   "source": [
    "key_location = \"chair\"\n",
    "locations = [ \"table\" , \"garage\" , \"bedroom\" , \"hall\" , \"kitchen\" , \"livingroom\" , \n",
    "             \"chair\" , \"window\" , \"cupboard\" , \"templeroom\" ]\n",
    "\n",
    "for key in locations:\n",
    "    if key == key_location:\n",
    "        print ( \"key is found in\" , key )\n",
    "        break\n",
    "    else:\n",
    "        print ( \"key is not found in\" , key ) "
   ]
  },
  {
   "cell_type": "code",
   "execution_count": 9,
   "id": "adecc44f",
   "metadata": {},
   "outputs": [
    {
     "name": "stdout",
     "output_type": "stream",
     "text": [
      "key is not found in table\n",
      "key is not found in garage\n",
      "key is not found in bedroom\n",
      "key is not found in hall\n",
      "key is not found in kitchen\n",
      "key is not found in livingroom\n",
      "key is found in chair\n",
      "key is not found in window\n",
      "key is not found in cupboard\n",
      "key is not found in templeroom\n"
     ]
    }
   ],
   "source": [
    "key_location = \"chair\"\n",
    "locations = [ \"table\" , \"garage\" , \"bedroom\" , \"hall\" , \"kitchen\" , \"livingroom\" , \n",
    "             \"chair\" , \"window\" , \"cupboard\" , \"templeroom\" ]\n",
    "\n",
    "for key in locations:\n",
    "    if key == key_location:\n",
    "        print ( \"key is found in\" , key )\n",
    "        continue\n",
    "    else:\n",
    "        print ( \"key is not found in\" , key ) "
   ]
  },
  {
   "cell_type": "code",
   "execution_count": 10,
   "id": "18b35fd0",
   "metadata": {},
   "outputs": [
    {
     "name": "stdout",
     "output_type": "stream",
     "text": [
      "1\n",
      "4\n",
      "9\n",
      "16\n",
      "25\n",
      "36\n",
      "49\n",
      "64\n",
      "81\n",
      "100\n"
     ]
    }
   ],
   "source": [
    "for n in range(1,11):\n",
    "    print(n*n)"
   ]
  },
  {
   "cell_type": "code",
   "execution_count": 11,
   "id": "86db5416",
   "metadata": {},
   "outputs": [
    {
     "name": "stdout",
     "output_type": "stream",
     "text": [
      "1\n",
      "9\n",
      "25\n",
      "49\n",
      "81\n"
     ]
    }
   ],
   "source": [
    "for n in range(1,11):\n",
    "    if n%2 == 0:\n",
    "        continue\n",
    "    print(n*n)"
   ]
  },
  {
   "cell_type": "code",
   "execution_count": 12,
   "id": "ed59181a",
   "metadata": {},
   "outputs": [
    {
     "name": "stdout",
     "output_type": "stream",
     "text": [
      "4\n",
      "16\n",
      "36\n",
      "64\n",
      "100\n"
     ]
    }
   ],
   "source": [
    "for n in range(1,11):\n",
    "    if n%2 != 0:\n",
    "        continue\n",
    "    print(n*n)"
   ]
  },
  {
   "cell_type": "code",
   "execution_count": 13,
   "id": "b2a12b2d",
   "metadata": {},
   "outputs": [
    {
     "name": "stdout",
     "output_type": "stream",
     "text": [
      "11\n",
      "12\n",
      "13\n",
      "14\n",
      "15\n",
      "16\n",
      "17\n",
      "18\n",
      "19\n",
      "20\n"
     ]
    }
   ],
   "source": [
    "m = 11\n",
    "while m <= 20:\n",
    "    print(m)\n",
    "    m = m + 1"
   ]
  },
  {
   "cell_type": "code",
   "execution_count": 14,
   "id": "13010a41",
   "metadata": {},
   "outputs": [
    {
     "name": "stdout",
     "output_type": "stream",
     "text": [
      "20\n",
      "19\n",
      "18\n",
      "17\n",
      "16\n",
      "15\n",
      "14\n",
      "13\n",
      "12\n",
      "11\n"
     ]
    }
   ],
   "source": [
    "m = 20\n",
    "while m >= 11:\n",
    "    print(m)\n",
    "    m = m - 1"
   ]
  },
  {
   "cell_type": "code",
   "execution_count": null,
   "id": "ed2f14ce",
   "metadata": {},
   "outputs": [],
   "source": []
  }
 ],
 "metadata": {
  "kernelspec": {
   "display_name": "Python 3 (ipykernel)",
   "language": "python",
   "name": "python3"
  },
  "language_info": {
   "codemirror_mode": {
    "name": "ipython",
    "version": 3
   },
   "file_extension": ".py",
   "mimetype": "text/x-python",
   "name": "python",
   "nbconvert_exporter": "python",
   "pygments_lexer": "ipython3",
   "version": "3.10.9"
  }
 },
 "nbformat": 4,
 "nbformat_minor": 5
}
