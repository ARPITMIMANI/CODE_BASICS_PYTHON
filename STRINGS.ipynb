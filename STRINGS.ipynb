{
 "cells": [
  {
   "cell_type": "code",
   "execution_count": 1,
   "id": "3a8ada71",
   "metadata": {},
   "outputs": [
    {
     "name": "stdout",
     "output_type": "stream",
     "text": [
      "united states of america\n"
     ]
    }
   ],
   "source": [
    "text = \"united states of america\"\n",
    "print(text)"
   ]
  },
  {
   "cell_type": "code",
   "execution_count": 2,
   "id": "9e5421bd",
   "metadata": {},
   "outputs": [
    {
     "name": "stdout",
     "output_type": "stream",
     "text": [
      "united\n"
     ]
    }
   ],
   "source": [
    "print(text[0:6])"
   ]
  },
  {
   "cell_type": "code",
   "execution_count": 3,
   "id": "0589a933",
   "metadata": {},
   "outputs": [
    {
     "name": "stdout",
     "output_type": "stream",
     "text": [
      "united\n"
     ]
    }
   ],
   "source": [
    "print(text[:6])"
   ]
  },
  {
   "cell_type": "code",
   "execution_count": 4,
   "id": "5387dc95",
   "metadata": {},
   "outputs": [
    {
     "name": "stdout",
     "output_type": "stream",
     "text": [
      "tates of america\n"
     ]
    }
   ],
   "source": [
    "print(text[8:])"
   ]
  },
  {
   "cell_type": "code",
   "execution_count": 5,
   "id": "26766bf0",
   "metadata": {},
   "outputs": [
    {
     "name": "stdout",
     "output_type": "stream",
     "text": [
      "states of america\n"
     ]
    }
   ],
   "source": [
    "print(text[7:])"
   ]
  },
  {
   "cell_type": "code",
   "execution_count": 6,
   "id": "33742064",
   "metadata": {},
   "outputs": [
    {
     "name": "stdout",
     "output_type": "stream",
     "text": [
      "states of america\n"
     ]
    }
   ],
   "source": [
    "print(text[7:25])"
   ]
  },
  {
   "cell_type": "code",
   "execution_count": 7,
   "id": "ef1cb5fe",
   "metadata": {},
   "outputs": [
    {
     "name": "stdout",
     "output_type": "stream",
     "text": [
      "states of america\n"
     ]
    }
   ],
   "source": [
    "print(text[7:24])"
   ]
  },
  {
   "cell_type": "code",
   "execution_count": 8,
   "id": "44ef761f",
   "metadata": {},
   "outputs": [
    {
     "name": "stdout",
     "output_type": "stream",
     "text": [
      "states of americ\n"
     ]
    }
   ],
   "source": [
    "print(text[7:23])"
   ]
  },
  {
   "cell_type": "code",
   "execution_count": 9,
   "id": "6e01ce90",
   "metadata": {},
   "outputs": [
    {
     "name": "stdout",
     "output_type": "stream",
     "text": [
      "ut asfmi\n"
     ]
    }
   ],
   "source": [
    "print(text[0:24:3])"
   ]
  },
  {
   "cell_type": "code",
   "execution_count": 10,
   "id": "6df29cb1",
   "metadata": {},
   "outputs": [
    {
     "name": "stdout",
     "output_type": "stream",
     "text": [
      "uie ttso mrc\n"
     ]
    }
   ],
   "source": [
    "print(text[0:24:2])"
   ]
  },
  {
   "cell_type": "code",
   "execution_count": 11,
   "id": "8bc6078e",
   "metadata": {},
   "outputs": [
    {
     "name": "stdout",
     "output_type": "stream",
     "text": [
      "united states of america\n"
     ]
    }
   ],
   "source": [
    "text = 'united states of america'\n",
    "print(text)"
   ]
  },
  {
   "cell_type": "code",
   "execution_count": 12,
   "id": "3e597f8b",
   "metadata": {},
   "outputs": [
    {
     "name": "stdout",
     "output_type": "stream",
     "text": [
      " country list :\n",
      "1. ireland\n",
      "2. norway\n",
      "3. finland\n",
      "4. denmark\n",
      "5. iceland\n",
      "6. sweden\n",
      "\n"
     ]
    }
   ],
   "source": [
    "country = \"\"\" country list :\n",
    "1. ireland\n",
    "2. norway\n",
    "3. finland\n",
    "4. denmark\n",
    "5. iceland\n",
    "6. sweden\n",
    "\"\"\"\n",
    "print(country)"
   ]
  },
  {
   "cell_type": "code",
   "execution_count": 13,
   "id": "81cf2b7c",
   "metadata": {},
   "outputs": [
    {
     "name": "stdout",
     "output_type": "stream",
     "text": [
      " country list :\n",
      "1. ireland\n",
      "2. norway\n",
      "3. finland\n",
      "4. denmark\n",
      "5. iceland\n",
      "6. sweden\n",
      "\n"
     ]
    }
   ],
   "source": [
    "print(country)"
   ]
  },
  {
   "cell_type": "code",
   "execution_count": 14,
   "id": "745159dd",
   "metadata": {},
   "outputs": [
    {
     "name": "stdout",
     "output_type": "stream",
     "text": [
      "unitedstatesofamerica\n"
     ]
    }
   ],
   "source": [
    "t1 = \"united\"\n",
    "t2 = \"states\"\n",
    "t3 = \"of\"\n",
    "t4 = \"america\"\n",
    "t5 = t1 + t2 + t3 + t4 \n",
    "print(t5)"
   ]
  },
  {
   "cell_type": "code",
   "execution_count": 15,
   "id": "f31701bf",
   "metadata": {},
   "outputs": [
    {
     "name": "stdout",
     "output_type": "stream",
     "text": [
      "united states of america\n"
     ]
    }
   ],
   "source": [
    "t6 = t1 + \" \" + t2 + \" \" + t3 + \" \" + t4\n",
    "print(t6)"
   ]
  },
  {
   "cell_type": "code",
   "execution_count": 16,
   "id": "627b0eac",
   "metadata": {},
   "outputs": [
    {
     "name": "stdout",
     "output_type": "stream",
     "text": [
      "unitedstatesofamerica\n"
     ]
    }
   ],
   "source": [
    "t7 = t1 + \"\" + t2 + \"\" + t3 + \"\" + t4\n",
    "print(t7)"
   ]
  },
  {
   "cell_type": "code",
   "execution_count": 17,
   "id": "205dff1c",
   "metadata": {},
   "outputs": [
    {
     "name": "stdout",
     "output_type": "stream",
     "text": [
      "total states in usa is \n"
     ]
    }
   ],
   "source": [
    "t8 =\"total states in usa is \"\n",
    "print(t8)"
   ]
  },
  {
   "cell_type": "code",
   "execution_count": 18,
   "id": "2af5321f",
   "metadata": {},
   "outputs": [
    {
     "name": "stdout",
     "output_type": "stream",
     "text": [
      "50\n"
     ]
    }
   ],
   "source": [
    "t9 = 50\n",
    "print(t9)"
   ]
  },
  {
   "cell_type": "code",
   "execution_count": 19,
   "id": "a9d85237",
   "metadata": {},
   "outputs": [
    {
     "name": "stdout",
     "output_type": "stream",
     "text": [
      "50\n"
     ]
    }
   ],
   "source": [
    "print ( str(t9) )"
   ]
  },
  {
   "cell_type": "code",
   "execution_count": 20,
   "id": "20ad2f3f",
   "metadata": {},
   "outputs": [
    {
     "name": "stdout",
     "output_type": "stream",
     "text": [
      "total states in usa is 50\n"
     ]
    }
   ],
   "source": [
    "print ( t8 + str(t9) )"
   ]
  },
  {
   "cell_type": "code",
   "execution_count": null,
   "id": "5458ff4b",
   "metadata": {},
   "outputs": [],
   "source": []
  }
 ],
 "metadata": {
  "kernelspec": {
   "display_name": "Python 3 (ipykernel)",
   "language": "python",
   "name": "python3"
  },
  "language_info": {
   "codemirror_mode": {
    "name": "ipython",
    "version": 3
   },
   "file_extension": ".py",
   "mimetype": "text/x-python",
   "name": "python",
   "nbconvert_exporter": "python",
   "pygments_lexer": "ipython3",
   "version": "3.10.9"
  }
 },
 "nbformat": 4,
 "nbformat_minor": 5
}
