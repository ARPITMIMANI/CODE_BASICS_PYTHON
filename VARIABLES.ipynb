{
 "cells": [
  {
   "cell_type": "code",
   "execution_count": 1,
   "id": "016a9e1f",
   "metadata": {},
   "outputs": [
    {
     "name": "stdout",
     "output_type": "stream",
     "text": [
      "13840\n"
     ]
    }
   ],
   "source": [
    "rent = 7600\n",
    "food = 3600\n",
    "gas = 640\n",
    "electricity = 480\n",
    "petrol = 1200\n",
    "mobile = 320\n",
    "total = rent + food + gas + electricity + petrol + mobile\n",
    "print(total)"
   ]
  },
  {
   "cell_type": "code",
   "execution_count": 2,
   "id": "0dde073c",
   "metadata": {},
   "outputs": [
    {
     "name": "stdout",
     "output_type": "stream",
     "text": [
      " my expense items are  rent food gas electricity petrol mobile\n"
     ]
    }
   ],
   "source": [
    "item1 = \"rent\"\n",
    "item2 = \"food\"\n",
    "item3 =  \"gas\"\n",
    "item4 = \"electricity\"\n",
    "item5 = \"petrol\"\n",
    "item6 = \"mobile\"\n",
    "print ( \" my expense items are \" , item1 , item2 , item3 , item4 , item5 , item6 )"
   ]
  },
  {
   "cell_type": "code",
   "execution_count": 3,
   "id": "1a9ee7ec",
   "metadata": {},
   "outputs": [
    {
     "name": "stdout",
     "output_type": "stream",
     "text": [
      " my expense items are rent food gas electricity petrol mobile\n"
     ]
    }
   ],
   "source": [
    "print ( \" my expense items are\" , item1 , item2 , item3 , item4 , item5 , item6 )"
   ]
  },
  {
   "cell_type": "code",
   "execution_count": null,
   "id": "41818fa7",
   "metadata": {},
   "outputs": [],
   "source": []
  }
 ],
 "metadata": {
  "kernelspec": {
   "display_name": "Python 3 (ipykernel)",
   "language": "python",
   "name": "python3"
  },
  "language_info": {
   "codemirror_mode": {
    "name": "ipython",
    "version": 3
   },
   "file_extension": ".py",
   "mimetype": "text/x-python",
   "name": "python",
   "nbconvert_exporter": "python",
   "pygments_lexer": "ipython3",
   "version": "3.10.9"
  }
 },
 "nbformat": 4,
 "nbformat_minor": 5
}
