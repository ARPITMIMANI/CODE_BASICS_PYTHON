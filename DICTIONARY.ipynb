{
 "cells": [
  {
   "cell_type": "code",
   "execution_count": 1,
   "id": "af493d44",
   "metadata": {},
   "outputs": [
    {
     "name": "stdout",
     "output_type": "stream",
     "text": [
      "{'sam': 512, 'tom': 484, 'rob': 640, 'joe': 656, 'ben': 576, 'dan': 324}\n"
     ]
    }
   ],
   "source": [
    "phone = { \"sam\" :  512 , \"tom\" : 484, \"rob\" : 640 , \"joe\" : 656 , \"ben\" : 576 , \"dan\" : 324 }\n",
    "print(phone)"
   ]
  },
  {
   "cell_type": "code",
   "execution_count": 2,
   "id": "311e5ba9",
   "metadata": {},
   "outputs": [
    {
     "name": "stdout",
     "output_type": "stream",
     "text": [
      "656\n"
     ]
    }
   ],
   "source": [
    "print ( phone[\"joe\"] )"
   ]
  },
  {
   "cell_type": "code",
   "execution_count": 3,
   "id": "23448f5a",
   "metadata": {},
   "outputs": [
    {
     "name": "stdout",
     "output_type": "stream",
     "text": [
      "{'sam': 512, 'tom': 484, 'rob': 640, 'joe': 656, 'ben': 576, 'dan': 324, 'len': 444}\n"
     ]
    }
   ],
   "source": [
    "phone[\"len\"] = 444\n",
    "print(phone)"
   ]
  },
  {
   "cell_type": "code",
   "execution_count": 4,
   "id": "b5f244de",
   "metadata": {},
   "outputs": [
    {
     "name": "stdout",
     "output_type": "stream",
     "text": [
      "{'sam': 512, 'tom': 484, 'rob': 640, 'joe': 656, 'ben': 576, 'dan': 324, 'len': 480}\n"
     ]
    }
   ],
   "source": [
    "phone[\"len\"] = 480\n",
    "print(phone)"
   ]
  },
  {
   "cell_type": "code",
   "execution_count": 5,
   "id": "284af9ed",
   "metadata": {},
   "outputs": [
    {
     "name": "stdout",
     "output_type": "stream",
     "text": [
      "{'sam': 512, 'tom': 484, 'rob': 640, 'ben': 576, 'dan': 324, 'len': 480}\n"
     ]
    }
   ],
   "source": [
    "del phone[\"joe\"]\n",
    "print(phone)"
   ]
  },
  {
   "cell_type": "code",
   "execution_count": 6,
   "id": "63a3fc6b",
   "metadata": {},
   "outputs": [
    {
     "name": "stdout",
     "output_type": "stream",
     "text": [
      "sam 512\n",
      "tom 484\n",
      "rob 640\n",
      "ben 576\n",
      "dan 324\n",
      "len 480\n"
     ]
    }
   ],
   "source": [
    "for k,v in phone.items():\n",
    "    print ( k ,v )"
   ]
  },
  {
   "cell_type": "code",
   "execution_count": 7,
   "id": "cad1f7b5",
   "metadata": {},
   "outputs": [
    {
     "name": "stdout",
     "output_type": "stream",
     "text": [
      "key : sam value : 512\n",
      "key : tom value : 484\n",
      "key : rob value : 640\n",
      "key : ben value : 576\n",
      "key : dan value : 324\n",
      "key : len value : 480\n"
     ]
    }
   ],
   "source": [
    "for k,v in phone.items():\n",
    "    print ( \"key :\", k , \"value :\", v )"
   ]
  },
  {
   "cell_type": "code",
   "execution_count": 8,
   "id": "5af63f8a",
   "metadata": {},
   "outputs": [
    {
     "name": "stdout",
     "output_type": "stream",
     "text": [
      "key : sam value : 512\n",
      "key : tom value : 484\n",
      "key : rob value : 640\n",
      "key : ben value : 576\n",
      "key : dan value : 324\n",
      "key : len value : 480\n"
     ]
    }
   ],
   "source": [
    "for x in phone:\n",
    "    print ( \"key :\", x , \"value :\", phone[x] )"
   ]
  },
  {
   "cell_type": "code",
   "execution_count": 9,
   "id": "e3d2920f",
   "metadata": {},
   "outputs": [
    {
     "name": "stdout",
     "output_type": "stream",
     "text": [
      "True\n"
     ]
    }
   ],
   "source": [
    "print ( \"tom\" in phone )"
   ]
  },
  {
   "cell_type": "code",
   "execution_count": 10,
   "id": "2888c4fe",
   "metadata": {},
   "outputs": [
    {
     "name": "stdout",
     "output_type": "stream",
     "text": [
      "False\n"
     ]
    }
   ],
   "source": [
    "print ( \"jim\" in phone )"
   ]
  },
  {
   "cell_type": "code",
   "execution_count": 11,
   "id": "1fca37ce",
   "metadata": {},
   "outputs": [
    {
     "name": "stdout",
     "output_type": "stream",
     "text": [
      "{}\n"
     ]
    }
   ],
   "source": [
    "phone.clear()\n",
    "print(phone)"
   ]
  },
  {
   "cell_type": "code",
   "execution_count": 12,
   "id": "fcfc41ea",
   "metadata": {},
   "outputs": [
    {
     "name": "stdout",
     "output_type": "stream",
     "text": [
      "{'sam': 512, 'tom': 484, 'rob': 640, 'joe': 656, 'ben': 576, 'dan': 324}\n"
     ]
    }
   ],
   "source": [
    "phone = { \"sam\" :  512 , \"tom\" : 484, \"rob\" : 640 , \"joe\" : 656 , \"ben\" : 576 , \"dan\" : 324 }\n",
    "print(phone)"
   ]
  },
  {
   "cell_type": "code",
   "execution_count": null,
   "id": "9b5b4ad1",
   "metadata": {},
   "outputs": [],
   "source": []
  }
 ],
 "metadata": {
  "kernelspec": {
   "display_name": "Python 3 (ipykernel)",
   "language": "python",
   "name": "python3"
  },
  "language_info": {
   "codemirror_mode": {
    "name": "ipython",
    "version": 3
   },
   "file_extension": ".py",
   "mimetype": "text/x-python",
   "name": "python",
   "nbconvert_exporter": "python",
   "pygments_lexer": "ipython3",
   "version": "3.10.9"
  }
 },
 "nbformat": 4,
 "nbformat_minor": 5
}
