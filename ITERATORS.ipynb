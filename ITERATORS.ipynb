{
 "cells": [
  {
   "cell_type": "code",
   "execution_count": 1,
   "id": "a8467f12",
   "metadata": {},
   "outputs": [
    {
     "name": "stdout",
     "output_type": "stream",
     "text": [
      "tom\n",
      "joe\n",
      "den\n",
      "sam\n",
      "jim\n",
      "leo\n"
     ]
    }
   ],
   "source": [
    "name = [ \"tom\" , \"joe\" , \"den\" , \"sam\" , \"jim\" , \"leo\" ]\n",
    "for item in name:\n",
    "    print(item)"
   ]
  },
  {
   "cell_type": "code",
   "execution_count": 2,
   "id": "4d9af798",
   "metadata": {},
   "outputs": [
    {
     "name": "stdout",
     "output_type": "stream",
     "text": [
      "['__add__', '__class__', '__class_getitem__', '__contains__', '__delattr__', '__delitem__', '__dir__', '__doc__', '__eq__', '__format__', '__ge__', '__getattribute__', '__getitem__', '__gt__', '__hash__', '__iadd__', '__imul__', '__init__', '__init_subclass__', '__iter__', '__le__', '__len__', '__lt__', '__mul__', '__ne__', '__new__', '__reduce__', '__reduce_ex__', '__repr__', '__reversed__', '__rmul__', '__setattr__', '__setitem__', '__sizeof__', '__str__', '__subclasshook__', 'append', 'clear', 'copy', 'count', 'extend', 'index', 'insert', 'pop', 'remove', 'reverse', 'sort']\n"
     ]
    }
   ],
   "source": [
    "print ( dir(name) )"
   ]
  },
  {
   "cell_type": "code",
   "execution_count": 3,
   "id": "9292e994",
   "metadata": {},
   "outputs": [
    {
     "name": "stdout",
     "output_type": "stream",
     "text": [
      "tom\n",
      "joe\n",
      "den\n",
      "sam\n",
      "jim\n",
      "leo\n"
     ]
    }
   ],
   "source": [
    "x = [ \"tom\" , \"joe\" , \"den\" , \"sam\" , \"jim\" , \"leo\" ]\n",
    "for item in x:\n",
    "    print(item)"
   ]
  },
  {
   "cell_type": "code",
   "execution_count": 4,
   "id": "96af6044",
   "metadata": {},
   "outputs": [
    {
     "name": "stdout",
     "output_type": "stream",
     "text": [
      "<list_iterator object at 0x000001F78AE3B940>\n"
     ]
    }
   ],
   "source": [
    "y = iter(x)\n",
    "print(y)"
   ]
  },
  {
   "cell_type": "code",
   "execution_count": 5,
   "id": "dc79059c",
   "metadata": {},
   "outputs": [
    {
     "name": "stdout",
     "output_type": "stream",
     "text": [
      "tom\n"
     ]
    }
   ],
   "source": [
    "print ( next(y) )"
   ]
  },
  {
   "cell_type": "code",
   "execution_count": 6,
   "id": "821fa90b",
   "metadata": {},
   "outputs": [
    {
     "name": "stdout",
     "output_type": "stream",
     "text": [
      "joe\n"
     ]
    }
   ],
   "source": [
    "print ( next(y) )"
   ]
  },
  {
   "cell_type": "code",
   "execution_count": 7,
   "id": "bd461507",
   "metadata": {},
   "outputs": [
    {
     "name": "stdout",
     "output_type": "stream",
     "text": [
      "den\n"
     ]
    }
   ],
   "source": [
    "print ( next(y) )"
   ]
  },
  {
   "cell_type": "code",
   "execution_count": 8,
   "id": "634efd65",
   "metadata": {},
   "outputs": [
    {
     "name": "stdout",
     "output_type": "stream",
     "text": [
      "sam\n"
     ]
    }
   ],
   "source": [
    "print ( next(y) )"
   ]
  },
  {
   "cell_type": "code",
   "execution_count": 9,
   "id": "68b81880",
   "metadata": {},
   "outputs": [
    {
     "name": "stdout",
     "output_type": "stream",
     "text": [
      "jim\n"
     ]
    }
   ],
   "source": [
    "print ( next(y) )"
   ]
  },
  {
   "cell_type": "code",
   "execution_count": 10,
   "id": "66ced766",
   "metadata": {},
   "outputs": [
    {
     "name": "stdout",
     "output_type": "stream",
     "text": [
      "leo\n"
     ]
    }
   ],
   "source": [
    "print ( next(y) )"
   ]
  },
  {
   "cell_type": "code",
   "execution_count": 11,
   "id": "bd3b2f60",
   "metadata": {},
   "outputs": [
    {
     "name": "stdout",
     "output_type": "stream",
     "text": [
      "1\n",
      "2\n",
      "3\n",
      "4\n",
      "5\n",
      "6\n"
     ]
    }
   ],
   "source": [
    "for a in [1,2,3,4,5,6]:\n",
    "    print(a)"
   ]
  },
  {
   "cell_type": "code",
   "execution_count": 12,
   "id": "5dcf60ea",
   "metadata": {},
   "outputs": [
    {
     "name": "stdout",
     "output_type": "stream",
     "text": [
      "1\n",
      "2\n",
      "3\n",
      "4\n",
      "5\n",
      "6\n"
     ]
    }
   ],
   "source": [
    "for b in (1,2,3,4,5,6):\n",
    "    print(b)"
   ]
  },
  {
   "cell_type": "code",
   "execution_count": 13,
   "id": "3c88ccb2",
   "metadata": {},
   "outputs": [
    {
     "name": "stdout",
     "output_type": "stream",
     "text": [
      "1\n",
      "2\n",
      "3\n",
      "4\n",
      "5\n",
      "6\n"
     ]
    }
   ],
   "source": [
    "for c in \"123456\":\n",
    "    print(c)"
   ]
  },
  {
   "cell_type": "code",
   "execution_count": 14,
   "id": "89e4625f",
   "metadata": {},
   "outputs": [
    {
     "name": "stdout",
     "output_type": "stream",
     "text": [
      "one\n",
      "two\n",
      "three\n",
      "four\n",
      "five\n",
      "six\n"
     ]
    }
   ],
   "source": [
    "for d in { \"one\" : 1 , \"two\" : 2 , \"three\" : 3 , \"four\" : 4 , \"five\" : 5 , \"six\" : 6 }: \n",
    "   print(d)"
   ]
  },
  {
   "cell_type": "code",
   "execution_count": 15,
   "id": "ccd6fad1",
   "metadata": {},
   "outputs": [
    {
     "name": "stdout",
     "output_type": "stream",
     "text": [
      "Teacher : Why are you late, Frank?\n",
      "Frank : Because of the sign.\n",
      "Teacher : What sign?\n",
      "Frank : The one that says \"School Ahead, Go Slow\"."
     ]
    }
   ],
   "source": [
    "for e in open(\"frank.txt\"):\n",
    "  print ( e , end=\"\" )"
   ]
  },
  {
   "cell_type": "code",
   "execution_count": 16,
   "id": "c9204c36",
   "metadata": {},
   "outputs": [
    {
     "name": "stdout",
     "output_type": "stream",
     "text": [
      "Teacher : Why are you late, Frank?\n",
      " Frank : Because of the sign.\n",
      " Teacher : What sign?\n",
      " Frank : The one that says \"School Ahead, Go Slow\". "
     ]
    }
   ],
   "source": [
    "for e in open(\"frank.txt\"):\n",
    "  print ( e , end=\" \" )"
   ]
  },
  {
   "cell_type": "code",
   "execution_count": 17,
   "id": "ff64d7e3",
   "metadata": {},
   "outputs": [
    {
     "name": "stdout",
     "output_type": "stream",
     "text": [
      "<list_reverseiterator object at 0x000001F78AE3A9B0>\n"
     ]
    }
   ],
   "source": [
    "z = reversed(x)\n",
    "print(z)"
   ]
  },
  {
   "cell_type": "code",
   "execution_count": 18,
   "id": "cb93a312",
   "metadata": {},
   "outputs": [
    {
     "name": "stdout",
     "output_type": "stream",
     "text": [
      "leo\n"
     ]
    }
   ],
   "source": [
    "print ( next(z) )"
   ]
  },
  {
   "cell_type": "code",
   "execution_count": 19,
   "id": "61b083af",
   "metadata": {},
   "outputs": [
    {
     "name": "stdout",
     "output_type": "stream",
     "text": [
      "jim\n"
     ]
    }
   ],
   "source": [
    "print ( next(z) )"
   ]
  },
  {
   "cell_type": "code",
   "execution_count": 20,
   "id": "11d85aac",
   "metadata": {},
   "outputs": [
    {
     "name": "stdout",
     "output_type": "stream",
     "text": [
      "sam\n"
     ]
    }
   ],
   "source": [
    "print ( next(z) )"
   ]
  },
  {
   "cell_type": "code",
   "execution_count": 21,
   "id": "48b8f646",
   "metadata": {},
   "outputs": [
    {
     "name": "stdout",
     "output_type": "stream",
     "text": [
      "den\n"
     ]
    }
   ],
   "source": [
    "print ( next(z) )"
   ]
  },
  {
   "cell_type": "code",
   "execution_count": 22,
   "id": "5922dce3",
   "metadata": {},
   "outputs": [
    {
     "name": "stdout",
     "output_type": "stream",
     "text": [
      "joe\n"
     ]
    }
   ],
   "source": [
    "print ( next(z) )"
   ]
  },
  {
   "cell_type": "code",
   "execution_count": 23,
   "id": "a7f3c9d4",
   "metadata": {},
   "outputs": [
    {
     "name": "stdout",
     "output_type": "stream",
     "text": [
      "tom\n"
     ]
    }
   ],
   "source": [
    "print ( next(z) )"
   ]
  },
  {
   "cell_type": "code",
   "execution_count": 24,
   "id": "20ec391e",
   "metadata": {},
   "outputs": [],
   "source": [
    "class RemoteControl():\n",
    "    \n",
    "    def __init__(self):\n",
    "        self.channels = [ \"AXN\" , \"CGTN\" , \"ESPN\" , \"HBO\" , \"MGM\" , \"NDTV\" , \"TCM\" , \"TNT\" ]\n",
    "        self.index = -1\n",
    "        \n",
    "    def __iter__(self):\n",
    "        return self\n",
    "    \n",
    "    def __next__(self):\n",
    "        self.index = self.index + 1\n",
    "        if self.index == len(self.channels):\n",
    "            raise StopIteration \n",
    "        return  self.channels[self.index]  \n",
    "    "
   ]
  },
  {
   "cell_type": "code",
   "execution_count": 25,
   "id": "e3c44098",
   "metadata": {},
   "outputs": [
    {
     "name": "stdout",
     "output_type": "stream",
     "text": [
      "AXN\n",
      "CGTN\n",
      "ESPN\n",
      "HBO\n",
      "MGM\n",
      "NDTV\n",
      "TCM\n",
      "TNT\n"
     ]
    }
   ],
   "source": [
    "f = RemoteControl()\n",
    "g = iter(f)\n",
    "print ( next(g) )\n",
    "print ( next(g) )\n",
    "print ( next(g) )\n",
    "print ( next(g) )\n",
    "print ( next(g) )\n",
    "print ( next(g) )\n",
    "print ( next(g) )\n",
    "print ( next(g) )"
   ]
  },
  {
   "cell_type": "code",
   "execution_count": null,
   "id": "58e60677",
   "metadata": {},
   "outputs": [],
   "source": []
  }
 ],
 "metadata": {
  "kernelspec": {
   "display_name": "Python 3 (ipykernel)",
   "language": "python",
   "name": "python3"
  },
  "language_info": {
   "codemirror_mode": {
    "name": "ipython",
    "version": 3
   },
   "file_extension": ".py",
   "mimetype": "text/x-python",
   "name": "python",
   "nbconvert_exporter": "python",
   "pygments_lexer": "ipython3",
   "version": "3.10.9"
  }
 },
 "nbformat": 4,
 "nbformat_minor": 5
}
