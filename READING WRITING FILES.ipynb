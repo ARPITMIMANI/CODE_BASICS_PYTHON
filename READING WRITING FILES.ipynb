{
 "cells": [
  {
   "cell_type": "code",
   "execution_count": 1,
   "id": "9e2d1d69",
   "metadata": {},
   "outputs": [],
   "source": [
    "f = open ( \"C:\\\\Users\\\\ARPIT-MIMANI\\\\CODE BASICS PYTHON\\\\funny.txt\" , \"w\" )\n",
    "f.write(\"PYTHON IS A VERY EASY LANGUAGE\")\n",
    "f.close()"
   ]
  },
  {
   "cell_type": "code",
   "execution_count": 2,
   "id": "3ed6f087",
   "metadata": {},
   "outputs": [],
   "source": [
    "f = open ( \"C:\\\\Users\\\\ARPIT-MIMANI\\\\CODE BASICS PYTHON\\\\funny.txt\" , \"w\" )\n",
    "f.write(\"JAVASCRIPT IS A VERY HARD LANGUAGE\")\n",
    "f.close()"
   ]
  },
  {
   "cell_type": "code",
   "execution_count": 3,
   "id": "63817d6f",
   "metadata": {},
   "outputs": [],
   "source": [
    "f = open ( \"C:\\\\Users\\\\ARPIT-MIMANI\\\\CODE BASICS PYTHON\\\\funny.txt\" , \"a\" )\n",
    "f.write(\"\\nPYTHON IS A VERY EASY LANGUAGE\")\n",
    "f.close()"
   ]
  },
  {
   "cell_type": "code",
   "execution_count": 4,
   "id": "4e36a214",
   "metadata": {},
   "outputs": [],
   "source": [
    "f = open ( \"C:\\\\Users\\\\ARPIT-MIMANI\\\\CODE BASICS PYTHON\\\\funny.txt\" , \"a\" )\n",
    "f.write(\"\\nPHP IS A VERY GOOD LANGUAGE TO LEARN\")\n",
    "f.close()"
   ]
  },
  {
   "cell_type": "code",
   "execution_count": 5,
   "id": "5fcdd41e",
   "metadata": {},
   "outputs": [
    {
     "name": "stdout",
     "output_type": "stream",
     "text": [
      "Teacher : Why are you late, Frank?\n",
      "Frank : Because of the sign.\n",
      "Teacher : What sign?\n",
      "Frank : The one that says \"School Ahead, Go Slow\".\n"
     ]
    }
   ],
   "source": [
    "g = open ( \"C:\\\\Users\\\\ARPIT-MIMANI\\\\CODE BASICS PYTHON\\\\frank.txt\" , \"r\" )\n",
    "print ( g.read() )\n",
    "g.close()"
   ]
  },
  {
   "cell_type": "code",
   "execution_count": 6,
   "id": "fa1100ba",
   "metadata": {},
   "outputs": [
    {
     "name": "stdout",
     "output_type": "stream",
     "text": [
      "Teacher : Why are you late, Frank?\n",
      "\n",
      "Frank : Because of the sign.\n",
      "\n",
      "Teacher : What sign?\n",
      "\n",
      "Frank : The one that says \"School Ahead, Go Slow\".\n"
     ]
    }
   ],
   "source": [
    "g = open ( \"C:\\\\Users\\\\ARPIT-MIMANI\\\\CODE BASICS PYTHON\\\\frank.txt\" , \"r\" )\n",
    "for line in g:\n",
    "    print(line)\n",
    "g.close()"
   ]
  },
  {
   "cell_type": "code",
   "execution_count": 7,
   "id": "2d7bb5eb",
   "metadata": {},
   "outputs": [
    {
     "name": "stdout",
     "output_type": "stream",
     "text": [
      "Teacher : Why are you late, Frank?\n",
      "\n",
      "Frank : Because of the sign.\n",
      "\n",
      "Teacher : What sign?\n",
      "\n",
      "Frank : The one that says \"School Ahead, Go Slow\".\n"
     ]
    }
   ],
   "source": [
    "g = open ( \"C:\\\\Users\\\\ARPIT-MIMANI\\\\CODE BASICS PYTHON\\\\frank.txt\" , \"r\" )\n",
    "for l in g:\n",
    "    print(l)\n",
    "g.close()"
   ]
  },
  {
   "cell_type": "code",
   "execution_count": 8,
   "id": "9c6be26a",
   "metadata": {},
   "outputs": [
    {
     "name": "stdout",
     "output_type": "stream",
     "text": [
      "['Teacher', ':', 'Why', 'are', 'you', 'late,', 'Frank?\\n']\n",
      "['Frank', ':', 'Because', 'of', 'the', 'sign.\\n']\n",
      "['Teacher', ':', 'What', 'sign?\\n']\n",
      "['Frank', ':', 'The', 'one', 'that', 'says', '\"School', 'Ahead,', 'Go', 'Slow\".']\n"
     ]
    }
   ],
   "source": [
    "g = open ( \"C:\\\\Users\\\\ARPIT-MIMANI\\\\CODE BASICS PYTHON\\\\frank.txt\" , \"r\" )\n",
    "for line in g:\n",
    "    tokens = line.split (\" \")\n",
    "    print (str(tokens) )\n",
    "g.close()"
   ]
  },
  {
   "cell_type": "code",
   "execution_count": 9,
   "id": "457d32d0",
   "metadata": {},
   "outputs": [
    {
     "name": "stdout",
     "output_type": "stream",
     "text": [
      "['Teacher', ':', 'Why', 'are', 'you', 'late,', 'Frank?\\n']\n",
      "['Frank', ':', 'Because', 'of', 'the', 'sign.\\n']\n",
      "['Teacher', ':', 'What', 'sign?\\n']\n",
      "['Frank', ':', 'The', 'one', 'that', 'says', '\"School', 'Ahead,', 'Go', 'Slow\".']\n"
     ]
    }
   ],
   "source": [
    "g = open ( \"C:\\\\Users\\\\ARPIT-MIMANI\\\\CODE BASICS PYTHON\\\\frank.txt\" , \"r\" )\n",
    "for line in g:\n",
    "    t = line.split (\" \")\n",
    "    print (str(t) )\n",
    "g.close()"
   ]
  },
  {
   "cell_type": "code",
   "execution_count": 10,
   "id": "694dc99c",
   "metadata": {},
   "outputs": [
    {
     "name": "stdout",
     "output_type": "stream",
     "text": [
      "7\n",
      "6\n",
      "4\n",
      "10\n"
     ]
    }
   ],
   "source": [
    "g = open ( \"C:\\\\Users\\\\ARPIT-MIMANI\\\\CODE BASICS PYTHON\\\\frank.txt\" , \"r\" )\n",
    "for line in g:\n",
    "    tokens = line.split (\" \")\n",
    "    print (len(tokens) )\n",
    "g.close()"
   ]
  },
  {
   "cell_type": "code",
   "execution_count": 11,
   "id": "9b08dbc6",
   "metadata": {},
   "outputs": [],
   "source": [
    "g = open ( \"C:\\\\Users\\\\ARPIT-MIMANI\\\\CODE BASICS PYTHON\\\\frank.txt\" , \"r\" )\n",
    "h = open ( \"C:\\\\Users\\\\ARPIT-MIMANI\\\\CODE BASICS PYTHON\\\\frank_word_count.txt\" , \"w\" )\n",
    "\n",
    "for line in g:\n",
    "    tokens = line.split (\" \")\n",
    "    h.write ( line + \"Word Count :\" + str(len(tokens)) )\n",
    "\n",
    "g.close()\n",
    "h.close()"
   ]
  },
  {
   "cell_type": "code",
   "execution_count": 12,
   "id": "5e9957a8",
   "metadata": {},
   "outputs": [],
   "source": [
    "g = open ( \"C:\\\\Users\\\\ARPIT-MIMANI\\\\CODE BASICS PYTHON\\\\frank.txt\" , \"r\" )\n",
    "h = open ( \"C:\\\\Users\\\\ARPIT-MIMANI\\\\CODE BASICS PYTHON\\\\frank_word_count.txt\" , \"w\" )\n",
    "\n",
    "for line in g:\n",
    "    tokens = line.split (\" \")\n",
    "    h.write ( \"Word Count :\" + str(len(tokens)) + line )\n",
    "\n",
    "g.close()\n",
    "h.close()"
   ]
  },
  {
   "cell_type": "code",
   "execution_count": 13,
   "id": "692ad87b",
   "metadata": {},
   "outputs": [],
   "source": [
    "g = open ( \"C:\\\\Users\\\\ARPIT-MIMANI\\\\CODE BASICS PYTHON\\\\frank.txt\" , \"r\" )\n",
    "h = open ( \"C:\\\\Users\\\\ARPIT-MIMANI\\\\CODE BASICS PYTHON\\\\frank_word_count.txt\" , \"w\" )\n",
    "\n",
    "for line in g:\n",
    "    tokens = line.split (\" \")\n",
    "    h.write ( \"Word Count :\" + str(len(tokens)) + \" \" + line )\n",
    "\n",
    "g.close()\n",
    "h.close()"
   ]
  },
  {
   "cell_type": "code",
   "execution_count": 14,
   "id": "faa55e62",
   "metadata": {},
   "outputs": [
    {
     "name": "stdout",
     "output_type": "stream",
     "text": [
      "Teacher : Why are you late, Frank?\n",
      "Frank : Because of the sign.\n",
      "Teacher : What sign?\n",
      "Frank : The one that says \"School Ahead, Go Slow\".\n",
      "True\n"
     ]
    }
   ],
   "source": [
    "with  open ( \"C:\\\\Users\\\\ARPIT-MIMANI\\\\CODE BASICS PYTHON\\\\frank.txt\" , \"r\" ) as k:\n",
    "    print ( k.read() )\n",
    "print(k.closed)        "
   ]
  },
  {
   "cell_type": "code",
   "execution_count": null,
   "id": "69acb771",
   "metadata": {},
   "outputs": [],
   "source": []
  }
 ],
 "metadata": {
  "kernelspec": {
   "display_name": "Python 3 (ipykernel)",
   "language": "python",
   "name": "python3"
  },
  "language_info": {
   "codemirror_mode": {
    "name": "ipython",
    "version": 3
   },
   "file_extension": ".py",
   "mimetype": "text/x-python",
   "name": "python",
   "nbconvert_exporter": "python",
   "pygments_lexer": "ipython3",
   "version": "3.10.9"
  }
 },
 "nbformat": 4,
 "nbformat_minor": 5
}
