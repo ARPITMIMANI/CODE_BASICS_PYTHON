{
 "cells": [
  {
   "cell_type": "code",
   "execution_count": 1,
   "id": "ef63457f",
   "metadata": {},
   "outputs": [
    {
     "name": "stdout",
     "output_type": "stream",
     "text": [
      "MEMORY ERROR\n"
     ]
    }
   ],
   "source": [
    "try:\n",
    "    raise MemoryError ( \"MEMORY ERROR\" )\n",
    "except MemoryError as e:\n",
    "    print(e)"
   ]
  },
  {
   "cell_type": "code",
   "execution_count": 2,
   "id": "2b7c8e06",
   "metadata": {},
   "outputs": [
    {
     "name": "stdout",
     "output_type": "stream",
     "text": [
      "MEMORY ERROR\n"
     ]
    }
   ],
   "source": [
    "try:\n",
    "    raise Exception ( \"MEMORY ERROR\" )\n",
    "except Exception as e:\n",
    "    print(e)"
   ]
  },
  {
   "cell_type": "code",
   "execution_count": 3,
   "id": "2960bf63",
   "metadata": {},
   "outputs": [
    {
     "name": "stdout",
     "output_type": "stream",
     "text": [
      "USER DEFINED EXCEPTION : CRASH BETWEEN TWO CARS\n"
     ]
    }
   ],
   "source": [
    "class Accident(Exception):\n",
    "    \n",
    "    def __init__ (self,msg):\n",
    "        self.msg = msg\n",
    "        \n",
    "    def print_exception (self):\n",
    "        print ( \"USER DEFINED EXCEPTION :\" , self.msg )\n",
    "      \n",
    "try:\n",
    "    raise Accident ( \"CRASH BETWEEN TWO CARS\" )\n",
    "except Accident as e:\n",
    "    e.print_exception()        "
   ]
  },
  {
   "cell_type": "code",
   "execution_count": 4,
   "id": "bfd6772e",
   "metadata": {},
   "outputs": [
    {
     "name": "stdout",
     "output_type": "stream",
     "text": [
      "ACCIDENT OCCURED TAKE DETOUR\n"
     ]
    }
   ],
   "source": [
    "class Accident(Exception):\n",
    "    \n",
    "    def __init__ (self,msg):\n",
    "        self.msg = msg\n",
    "        \n",
    "    def handle (self):\n",
    "        print ( \"ACCIDENT OCCURED TAKE DETOUR\" )\n",
    "      \n",
    "try:\n",
    "    raise Accident ( \"CRASH BETWEEN TWO CARS\" )\n",
    "except Accident as e:\n",
    "    e.handle()        "
   ]
  },
  {
   "cell_type": "code",
   "execution_count": null,
   "id": "275626d4",
   "metadata": {},
   "outputs": [],
   "source": []
  }
 ],
 "metadata": {
  "kernelspec": {
   "display_name": "Python 3 (ipykernel)",
   "language": "python",
   "name": "python3"
  },
  "language_info": {
   "codemirror_mode": {
    "name": "ipython",
    "version": 3
   },
   "file_extension": ".py",
   "mimetype": "text/x-python",
   "name": "python",
   "nbconvert_exporter": "python",
   "pygments_lexer": "ipython3",
   "version": "3.10.9"
  }
 },
 "nbformat": 4,
 "nbformat_minor": 5
}
