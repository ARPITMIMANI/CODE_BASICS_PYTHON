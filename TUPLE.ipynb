{
 "cells": [
  {
   "cell_type": "code",
   "execution_count": 1,
   "id": "c85231df",
   "metadata": {},
   "outputs": [
    {
     "name": "stdout",
     "output_type": "stream",
     "text": [
      "(38, 34, 37, 33, 35, 31, 40, 32, 39, 36)\n"
     ]
    }
   ],
   "source": [
    "age = ( 38 , 34 , 37 , 33 , 35 , 31 , 40 , 32 , 39 , 36  )\n",
    "print(age)"
   ]
  },
  {
   "cell_type": "code",
   "execution_count": 2,
   "id": "4432d35e",
   "metadata": {},
   "outputs": [
    {
     "name": "stdout",
     "output_type": "stream",
     "text": [
      "38\n"
     ]
    }
   ],
   "source": [
    "print(age[0])"
   ]
  },
  {
   "cell_type": "code",
   "execution_count": 3,
   "id": "723d5194",
   "metadata": {},
   "outputs": [
    {
     "name": "stdout",
     "output_type": "stream",
     "text": [
      "36\n"
     ]
    }
   ],
   "source": [
    "print(age[9]) "
   ]
  },
  {
   "cell_type": "code",
   "execution_count": 4,
   "id": "fe4a5156",
   "metadata": {},
   "outputs": [
    {
     "name": "stdout",
     "output_type": "stream",
     "text": [
      "('tom', 'joe', 'sam', 'ben', 'dan', 'leo')\n"
     ]
    }
   ],
   "source": [
    "name = ( \"tom\" , \"joe\" , \"sam\" , \"ben\" , \"dan\" , \"leo\" )\n",
    "print(name)"
   ]
  },
  {
   "cell_type": "code",
   "execution_count": 5,
   "id": "060e198a",
   "metadata": {},
   "outputs": [
    {
     "name": "stdout",
     "output_type": "stream",
     "text": [
      "10\n"
     ]
    }
   ],
   "source": [
    "print ( len(age) )"
   ]
  },
  {
   "cell_type": "code",
   "execution_count": 6,
   "id": "0fcfface",
   "metadata": {},
   "outputs": [
    {
     "name": "stdout",
     "output_type": "stream",
     "text": [
      "6\n"
     ]
    }
   ],
   "source": [
    "print ( len(name) )"
   ]
  },
  {
   "cell_type": "code",
   "execution_count": 7,
   "id": "107d8e83",
   "metadata": {},
   "outputs": [
    {
     "name": "stdout",
     "output_type": "stream",
     "text": [
      "('tom', 36, 'joe', 32, 'sam', 40, 'ben', 30, 'dan', 38, 'leo', 34)\n",
      "12\n"
     ]
    }
   ],
   "source": [
    "info = ( \"tom\" , 36 , \"joe\" , 32 , \"sam\" , 40 , \"ben\" , 30 , \"dan\" , 38 , \"leo\" , 34 )\n",
    "print(info)\n",
    "print ( len(info) )"
   ]
  },
  {
   "cell_type": "code",
   "execution_count": null,
   "id": "4a5d1230",
   "metadata": {},
   "outputs": [],
   "source": []
  }
 ],
 "metadata": {
  "kernelspec": {
   "display_name": "Python 3 (ipykernel)",
   "language": "python",
   "name": "python3"
  },
  "language_info": {
   "codemirror_mode": {
    "name": "ipython",
    "version": 3
   },
   "file_extension": ".py",
   "mimetype": "text/x-python",
   "name": "python",
   "nbconvert_exporter": "python",
   "pygments_lexer": "ipython3",
   "version": "3.10.9"
  }
 },
 "nbformat": 4,
 "nbformat_minor": 5
}
